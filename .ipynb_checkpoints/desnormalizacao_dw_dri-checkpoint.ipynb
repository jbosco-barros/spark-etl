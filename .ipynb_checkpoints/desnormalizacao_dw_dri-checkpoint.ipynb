{
 "cells": [
  {
   "cell_type": "code",
   "execution_count": 1,
   "metadata": {},
   "outputs": [
    {
     "data": {
      "text/html": [
       "<style>pre { white-space: pre !important; }</style>"
      ],
      "text/plain": [
       "<IPython.core.display.HTML object>"
      ]
     },
     "metadata": {},
     "output_type": "display_data"
    }
   ],
   "source": [
    "from IPython.core.display import HTML\n",
    "display(HTML(\"<style>pre { white-space: pre !important; }</style>\"))"
   ]
  },
  {
   "cell_type": "code",
   "execution_count": 2,
   "metadata": {},
   "outputs": [],
   "source": [
    "from pyspark.sql import SparkSession\n",
    "from pyspark.conf import SparkConf\n",
    "from pyspark.sql import functions as f"
   ]
  },
  {
   "cell_type": "code",
   "execution_count": 5,
   "metadata": {},
   "outputs": [],
   "source": [
    "spark = SparkSession.builder.getOrCreate()\n",
    "spark.conf.set(\"spark.sql.shuffle.partitions\",spark.sparkContext.defaultParallelism)\n",
    "spark.conf.set('spark.sql.legacy.parquet.datetimeRebaseModeInRead', 'LEGACY')\n",
    "spark.conf.set('spark.sql.legacy.parquet.int96RebaseModeInWrite', 'LEGACY')\n",
    "spark.conf.set('spark.sql.legacy.parquet.datetimeRebaseModeInWrite', 'LEGACY')"
   ]
  },
  {
   "cell_type": "code",
   "execution_count": 6,
   "metadata": {},
   "outputs": [
    {
     "data": {
      "text/plain": [
       "[('spark.executor.id', 'driver'),\n",
       " ('spark.driver.port', '33939'),\n",
       " ('spark.driver.host', 'localhost'),\n",
       " ('spark.driver.memory', '16g'),\n",
       " ('spark.app.name', 'PySparkShell'),\n",
       " ('spark.sql.warehouse.dir', 'file:/home/bosco/spark-etl/spark-warehouse'),\n",
       " ('spark.sql.catalogImplementation', 'hive'),\n",
       " ('spark.rdd.compress', 'True'),\n",
       " ('spark.serializer.objectStreamReset', '100'),\n",
       " ('spark.master', 'local[*]'),\n",
       " ('spark.submit.pyFiles', ''),\n",
       " ('spark.submit.deployMode', 'client'),\n",
       " ('spark.app.id', 'local-1621155509797'),\n",
       " ('spark.ui.showConsoleProgress', 'true'),\n",
       " ('spark.app.startTime', '1621155508203')]"
      ]
     },
     "execution_count": 6,
     "metadata": {},
     "output_type": "execute_result"
    }
   ],
   "source": [
    "spark.sparkContext.getConf().getAll()"
   ]
  },
  {
   "cell_type": "code",
   "execution_count": 7,
   "metadata": {},
   "outputs": [
    {
     "name": "stdout",
     "output_type": "stream",
     "text": [
      "auxpe.zip\n",
      "bolsa_auxpe.zip\n",
      "bolsa.zip\n",
      "dw_dri_parquet\n",
      "pagamento.zip\n",
      "projeto.zip\n",
      "spark-3.1.1-bin-hadoop2.7.tgz\n",
      "spark-etl\n",
      "Untitled.ipynb\n"
     ]
    }
   ],
   "source": [
    "%%sh\n",
    "ls ~/"
   ]
  },
  {
   "cell_type": "code",
   "execution_count": 8,
   "metadata": {
    "scrolled": true
   },
   "outputs": [],
   "source": [
    "dwd_calendario = spark.read.parquet('/home/bosco/dw_dri_parquet/DW_DRI.DWD_CALENDARIO.parquet')\n",
    "dwd_edital = spark.read.parquet('/home/bosco/dw_dri_parquet/DW_DRI.DWD_EDITAL.parquet')\n",
    "dwd_elemento_despesa = spark.read.parquet('/home/bosco/dw_dri_parquet/DW_DRI.DWD_ELEMENTO_DESPESA.parquet')\n",
    "dwd_geografia = spark.read.parquet('/home/bosco/dw_dri_parquet/DW_DRI.DWD_GEOGRAFIA.parquet')\n",
    "dwd_instituicao_ensino = spark.read.parquet('/home/bosco/dw_dri_parquet/DW_DRI.DWD_INSTITUICAO_ENSINO.parquet')\n",
    "dwd_modalidade_bolsa = spark.read.parquet('/home/bosco/dw_dri_parquet/DW_DRI.DWD_MODALIDADE_BOLSA.parquet')\n",
    "dwd_moeda = spark.read.parquet('/home/bosco/dw_dri_parquet/DW_DRI.DWD_MOEDA.parquet')\n",
    "dwd_pessoa = spark.read.parquet('/home/bosco/dw_dri_parquet/DW_DRI.DWD_PESSOA.parquet')\n",
    "dwd_processo_projeto = spark.read.parquet('/home/bosco/dw_dri_parquet/DW_DRI.DWD_PROCESSO_PROJETO.parquet')\n",
    "dwd_processo_bolsa = spark.read.parquet('/home/bosco/dw_dri_parquet/DW_DRI.DWD_PROCESSO_BOLSA.parquet')\n",
    "dwd_processo_auxpe = spark.read.parquet('/home/bosco/dw_dri_parquet/DW_DRI.DWD_PROCESSO_AUXPE.parquet')\n",
    "dwd_programa = spark.read.parquet('/home/bosco/dw_dri_parquet/DW_DRI.DWD_PROGRAMA.parquet')\n",
    "dwd_rubrica = spark.read.parquet('/home/bosco/dw_dri_parquet/DW_DRI.DWD_RUBRICA.parquet')\n",
    "dwd_situacao_prestacao = spark.read.parquet('/home/bosco/dw_dri_parquet/DW_DRI.DWD_SITUACAO_PRESTACAO.parquet')\n",
    "dwd_situacao_processo = spark.read.parquet('/home/bosco/dw_dri_parquet/DW_DRI.DWD_SITUACAO_PROCESSO.parquet')\n",
    "dwd_tipo_beneficio = spark.read.parquet('/home/bosco/dw_dri_parquet/DW_DRI.DWD_TIPO_BENEFICIO.parquet')\n",
    "dwd_tipo_solicitacao = spark.read.parquet('/home/bosco/dw_dri_parquet/DW_DRI.DWD_TIPO_SOLICITACAO.parquet')\n",
    "dwd_unidade_organizacional = spark.read.parquet('/home/bosco/dw_dri_parquet/DW_DRI.DWD_UNIDADE_ORGANIZACIONAL.parquet')\n",
    "dwf_extrato_cartao_pesquisador = spark.read.parquet('/home/bosco/dw_dri_parquet/DW_DRI.DWF_EXTRATO_CARTAO_PESQUISADOR.parquet')\n",
    "dwf_pagamento = spark.read.parquet('/home/bosco/dw_dri_parquet/DW_DRI.DWF_PAGAMENTO.parquet')\n",
    "dwf_prestacao_conta = spark.read.parquet('/home/bosco/dw_dri_parquet/DW_DRI.DWF_PRESTACAO_CONTA.parquet')"
   ]
  },
  {
   "cell_type": "markdown",
   "metadata": {},
   "source": [
    "### Pagamento"
   ]
  },
  {
   "cell_type": "code",
   "execution_count": 9,
   "metadata": {},
   "outputs": [],
   "source": [
    "##Prefixo\n",
    "pref_dwf_pagamento = 'pgt_'\n",
    "pref_dwd_rubrica_pgt = 'rubrica_'\n",
    "pref_dwd_tipo_solicitacao_pgt = 'tp_solicitacao_'\n",
    "pref_dwd_moeda_pgt = 'moeda_'"
   ]
  },
  {
   "cell_type": "code",
   "execution_count": 10,
   "metadata": {},
   "outputs": [],
   "source": [
    "dwf_pagamento_pagamento = dwf_pagamento.select([f.col(c) for c in dwf_pagamento.columns if 'SK' in c] + \\\n",
    "    [f.col(c).alias(c.lower()) for c in dwf_pagamento.columns if 'SK' not in c])\n",
    "dwd_rubrica_pgt = dwd_rubrica.select(['SK_RUBRICA']+[f.col(c).alias(pref_dwd_rubrica_pgt+c.lower()) for c in dwd_rubrica.columns])\n",
    "dwd_tipo_solicitacao_pgt = dwd_tipo_solicitacao.select(['SK_TIPO_SOLICITACAO']+[f.col(c).alias(pref_dwd_tipo_solicitacao_pgt+c.lower()) for c in dwd_tipo_solicitacao.columns])\n",
    "dwd_moeda_pgt = dwd_moeda.select(['SK_MOEDA']+[f.col(c).alias(pref_dwd_moeda_pgt+c.lower()) for c in dwd_moeda.columns])"
   ]
  },
  {
   "cell_type": "code",
   "execution_count": 11,
   "metadata": {},
   "outputs": [],
   "source": [
    "pagamento = \\\n",
    "dwf_pagamento_pagamento \\\n",
    ".join(dwd_rubrica_pgt, 'SK_RUBRICA') \\\n",
    ".join(dwd_tipo_solicitacao_pgt, 'SK_TIPO_SOLICITACAO') \\\n",
    ".join(dwd_moeda_pgt, 'SK_MOEDA') \\\n",
    ".withColumn('dt_pagamento', f.to_date(f.col('SK_DATA_PAGAMENTO').cast('string'), 'yyyyMMdd')) \\\n",
    ".withColumn('dt_referencia', f.to_date(f.col('SK_DATA_REFERENCIA').cast('string'), 'yyyyMMdd')) \\\n",
    ".withColumn('processo_sk_processo', f.when(f.col('SK_PROCESSO_BOLSA')>0, f.col('SK_PROCESSO_BOLSA')).otherwise(f.lit(-1))) \\\n",
    ".withColumn('processo_sk_processo', f.when(f.col('SK_PROCESSO_AUXPE')>0, f.col('SK_PROCESSO_AUXPE')).otherwise(f.col('processo_sk_processo'))) \\\n",
    ".withColumnRenamed('SK_PROCESSO_BOLSA', 'bolsa_sk_processo') \\\n",
    ".withColumnRenamed('SK_PROCESSO_AUXPE', 'auxpe_sk_processo')\n",
    "## Remove as SKs\n",
    "pagamento = \\\n",
    "pagamento \\\n",
    ".select(['processo_sk_processo', 'bolsa_sk_processo', 'auxpe_sk_processo']+[f.col(c) for c in pagamento.columns if 'sk' not in c.lower()])\n",
    "## Adiciona o prefixo 'pagamento_' as colunas\n",
    "pagamento = \\\n",
    "pagamento \\\n",
    ".select([f.col(c).alias(pref_dwf_pagamento+c) for c in pagamento.columns])\n",
    "## Transforma as colunas 'dt' em data\n",
    "pagamento_columns = []\n",
    "for i in [f.col(c) for c in pagamento.columns if 'sk' not in c.lower()]:\n",
    "    if '_dt_' in str(i).lower():\n",
    "        pagamento_columns.append(i.cast('date'))\n",
    "    else:\n",
    "        pagamento_columns.append(i)\n",
    "pagamento = pagamento.select(\\\n",
    "                             [f.col(pref_dwf_pagamento+'processo_sk_processo').alias('processo_sk_processo'), \\\n",
    "                              f.col(pref_dwf_pagamento+'bolsa_sk_processo').alias('bolsa_sk_processo'), \\\n",
    "                              f.col(pref_dwf_pagamento+'auxpe_sk_processo').alias('auxpe_sk_processo')] \\\n",
    "                             + pagamento_columns)"
   ]
  },
  {
   "cell_type": "markdown",
   "metadata": {},
   "source": [
    "#### Colunas calculadas"
   ]
  },
  {
   "cell_type": "code",
   "execution_count": 60,
   "metadata": {},
   "outputs": [],
   "source": [
    "pagamento = pagamento \\\n",
    "                .withColumn('pgt_vl_pago_origem', f.when(f.col('pgt_tp_solicitacao_id_tipo_solicitacao').isin(1, 4), f.col('pgt_vl_pagamento_origem')).otherwise(f.lit(0))) \\\n",
    "                .withColumn('pgt_vl_empenhado_origem', f.when(f.col('pgt_tp_solicitacao_id_tipo_solicitacao').isin(0), f.col('pgt_vl_pagamento_origem')).otherwise(f.lit(0))) \\\n",
    "                .withColumn('pgt_vl_pago_brl', f.when(f.col('pgt_tp_solicitacao_id_tipo_solicitacao').isin(1, 4), f.col('pgt_vl_pagamento_brl')).otherwise(f.lit(0))) \\\n",
    "                .withColumn('pgt_vl_empenhado_brl', f.when(f.col('pgt_tp_solicitacao_id_tipo_solicitacao').isin(0), f.col('pgt_vl_pagamento_brl')).otherwise(f.lit(0))) \\\n",
    "                .withColumn('pgt_vl_pago_usd', f.when(f.col('pgt_tp_solicitacao_id_tipo_solicitacao').isin(1, 4), f.col('pgt_vl_pagamento_usd')).otherwise(f.lit(0))) \\\n",
    "                .withColumn('pgt_vl_empenhado_usd', f.when(f.col('pgt_tp_solicitacao_id_tipo_solicitacao').isin(0), f.col('pgt_vl_pagamento_usd')).otherwise(f.lit(0)))"
   ]
  },
  {
   "cell_type": "markdown",
   "metadata": {},
   "source": [
    "### Projeto"
   ]
  },
  {
   "cell_type": "code",
   "execution_count": 12,
   "metadata": {},
   "outputs": [],
   "source": [
    "##Prefixo\n",
    "pref_dwd_processo_projeto_proj = 'proj_'\n",
    "pref_dwd_unidade_organizacional_proj = 'uo_'\n",
    "pref_dwd_programa_proj = 'programa_'\n",
    "pref_dwd_edital = 'edital_'\n",
    "pref_dwd_tipo_beneficio = 'tp_beneficio_'\n",
    "pref_ies_principal = 'ies_princip_'\n",
    "pref_geografia_resp_principal = 'geo_resp_princp_'\n",
    "pref_responsavel_principal = 'resp_princp_'\n",
    "pref_dwd_situacao_processo_proj = 'st_proc_'"
   ]
  },
  {
   "cell_type": "code",
   "execution_count": 13,
   "metadata": {},
   "outputs": [],
   "source": [
    "dwd_processo_projeto_proj = dwd_processo_projeto.select([f.col(c) for c in dwd_processo_projeto.columns if 'SK' in c] + \\\n",
    "    [f.col(c).alias(c.lower()) for c in dwd_processo_projeto.columns if 'SK' not in c])\n",
    "dwd_unidade_organizacional_proj = dwd_unidade_organizacional.select(['SK_UNIDADE_ORGANIZACIONAL']+[f.col(c).alias(pref_dwd_unidade_organizacional_proj+c.lower()) for c in dwd_unidade_organizacional.columns])\n",
    "dwd_programa_proj = dwd_programa.select(['SK_PROGRAMA']+[f.col(c).alias(pref_dwd_programa_proj+c.lower()) for c in dwd_programa.columns])\n",
    "dwd_edital_proj = dwd_edital.select(['SK_EDITAL']+[f.col(c).alias(pref_dwd_edital+c.lower()) for c in dwd_edital.columns])\n",
    "dwd_tipo_beneficio_proj = dwd_tipo_beneficio.select(['SK_TIPO_BENEFICIO']+[f.col(c).alias(pref_dwd_tipo_beneficio+c.lower()) for c in dwd_tipo_beneficio.columns])\n",
    "ies_principal = dwd_instituicao_ensino.withColumnRenamed('SK_INSTITUICAO_ENSINO', 'SK_IES_PRINCIPAL')\n",
    "ies_principal = ies_principal.select(['SK_IES_PRINCIPAL']+[f.col(c).alias(pref_ies_principal+c.lower()) for c in ies_principal.columns])\n",
    "geografia_resp_principal = dwd_geografia.withColumnRenamed('SK_GEOGRAFIA', 'SK_GEOGRAFIA_RESP_PRINCIPAL')\n",
    "geografia_resp_principal = geografia_resp_principal.select(['SK_GEOGRAFIA_RESP_PRINCIPAL']+[f.col(c).alias(pref_geografia_resp_principal+c.lower()) for c in geografia_resp_principal.columns])\n",
    "responsavel_principal = dwd_pessoa.withColumnRenamed('SK_PESSOA', 'SK_RESPONSAVEL_PRINCIPAL')\n",
    "responsavel_principal = responsavel_principal.select(['SK_RESPONSAVEL_PRINCIPAL']+[f.col(c).alias(pref_responsavel_principal+c.lower()) for c in responsavel_principal.columns])\n",
    "dwd_situacao_processo_proj = dwd_situacao_processo.select(['SK_SITUACAO_PROCESSO']+[f.col(c).alias(pref_dwd_situacao_processo_proj+c.lower()) for c in dwd_situacao_processo.columns])"
   ]
  },
  {
   "cell_type": "code",
   "execution_count": 14,
   "metadata": {
    "scrolled": false
   },
   "outputs": [],
   "source": [
    "projeto = \\\n",
    "dwd_processo_projeto_proj \\\n",
    ".join(dwd_unidade_organizacional_proj, 'SK_UNIDADE_ORGANIZACIONAL') \\\n",
    ".join(dwd_programa_proj, 'SK_PROGRAMA') \\\n",
    ".join(dwd_edital_proj, 'SK_EDITAL') \\\n",
    ".join(dwd_tipo_beneficio_proj, 'SK_TIPO_BENEFICIO') \\\n",
    ".join(ies_principal, 'SK_IES_PRINCIPAL') \\\n",
    ".join(geografia_resp_principal, 'SK_GEOGRAFIA_RESP_PRINCIPAL') \\\n",
    ".join(responsavel_principal, 'SK_RESPONSAVEL_PRINCIPAL') \\\n",
    ".join(dwd_situacao_processo_proj, 'SK_SITUACAO_PROCESSO')\n",
    "## Remove as SKs\n",
    "projeto = \\\n",
    "projeto \\\n",
    ".select(['sk_processo_projeto']+[f.col(c) for c in projeto.columns if 'sk' not in c.lower()])\n",
    "## Adiciona o prefixo 'proj_' as colunas\n",
    "projeto = \\\n",
    "projeto \\\n",
    ".select([f.col(c).alias(pref_dwd_processo_projeto_proj+c) for c in projeto.columns])\n",
    "## Transforma as colunas 'dt' em data\n",
    "proj_columns = []\n",
    "for i in [f.col(c) for c in projeto.columns]:\n",
    "    if '_dt_' in str(i).lower():\n",
    "        proj_columns.append(i.cast('date'))\n",
    "    else:\n",
    "        proj_columns.append(i)\n",
    "projeto = \\\n",
    "projeto \\\n",
    ".select(proj_columns)"
   ]
  },
  {
   "cell_type": "markdown",
   "metadata": {},
   "source": [
    "### Bolsas"
   ]
  },
  {
   "cell_type": "code",
   "execution_count": 15,
   "metadata": {},
   "outputs": [],
   "source": [
    "##Prefixo\n",
    "pref_dwd_processo_bolsa_bolsa = 'bolsa_'\n",
    "pref_dwd_unidade_organizacional_bolsa = 'uo_'\n",
    "pref_dwd_programa_bolsa = 'programa_'\n",
    "pref_dwd_edital_bolsa = 'edital_'\n",
    "pref_dwd_tipo_beneficio_bolsa = 'tp_beneficio_'\n",
    "pref_bolsista_bolsa = 'beneficiario_'\n",
    "pref_geografia_exterior_bolsa = 'geo_exterior_'\n",
    "pref_geografia_brasil_bolsa = 'geo_brasil_'\n",
    "pref_ies_origem_bolsa = 'ies_ori_'\n",
    "pref_geografia_ies_origem_bolsa = 'geo_ies_ori_'\n",
    "pref_ies_estudo_bolsa = 'ies_estu_'\n",
    "pref_geografia_ies_estudo_bolsa = 'geo_ies_estu_'\n",
    "pref_dwd_modalidade_bolsa = 'modalidade_'\n",
    "pref_dwd_situacao_processo_bolsa = 'st_proc_'"
   ]
  },
  {
   "cell_type": "code",
   "execution_count": 16,
   "metadata": {},
   "outputs": [],
   "source": [
    "dwd_processo_bolsa_bolsa = dwd_processo_bolsa.select([f.col(c) for c in dwd_processo_bolsa.columns if 'SK' in c] + \\\n",
    "    [f.col(c).alias(c.lower()) for c in dwd_processo_bolsa.columns if 'SK' not in c]) \\\n",
    "    .withColumnRenamed('SK_PROCESSO_PROJETO', 'proj_sk_processo_projeto')\n",
    "dwd_unidade_organizacional_bolsa = dwd_unidade_organizacional.select(['SK_UNIDADE_ORGANIZACIONAL']+[f.col(c).alias(pref_dwd_unidade_organizacional_bolsa+c.lower()) for c in dwd_unidade_organizacional.columns])\n",
    "dwd_programa_bolsa = dwd_programa.select(['SK_PROGRAMA']+[f.col(c).alias(pref_dwd_programa_bolsa+c.lower()) for c in dwd_programa.columns])\n",
    "dwd_edital_bolsa = dwd_edital.select(['SK_EDITAL']+[f.col(c).alias(pref_dwd_edital_bolsa+c.lower()) for c in dwd_edital.columns])\n",
    "dwd_tipo_beneficio_bolsa = dwd_tipo_beneficio.select(['SK_TIPO_BENEFICIO']+[f.col(c).alias(pref_dwd_tipo_beneficio_bolsa+c.lower()) for c in dwd_tipo_beneficio.columns])\n",
    "bolsista = dwd_pessoa.withColumnRenamed('SK_PESSOA', 'SK_BOLSISTA')\n",
    "bolsista = bolsista.select(['SK_BOLSISTA']+[f.col(c).alias(pref_bolsista_bolsa+c.lower()) for c in bolsista.columns])\n",
    "geografia_exterior = dwd_geografia.withColumnRenamed('SK_GEOGRAFIA', 'SK_GEO_EXTERIOR')\n",
    "geografia_exterior = geografia_exterior.select(['SK_GEO_EXTERIOR']+[f.col(c).alias(pref_geografia_exterior_bolsa+c.lower()) for c in geografia_exterior.columns])\n",
    "geografia_brasil = dwd_geografia.withColumnRenamed('SK_GEOGRAFIA', 'SK_GEO_BRASIL')\n",
    "geografia_brasil = geografia_brasil.select(['SK_GEO_BRASIL']+[f.col(c).alias(pref_geografia_brasil_bolsa+c.lower()) for c in geografia_brasil.columns])\n",
    "ies_origem = dwd_instituicao_ensino.withColumnRenamed('SK_INSTITUICAO_ENSINO', 'SK_IES_ORIGEM')\n",
    "ies_origem = ies_origem.select(['SK_IES_ORIGEM']+[f.col(c).alias(pref_ies_origem_bolsa+c.lower()) for c in ies_origem.columns])\n",
    "geografia_ies_origem = dwd_geografia.withColumnRenamed('SK_GEOGRAFIA', 'SK_GEOGRAFIA_IES_ORIGEM')\n",
    "geografia_ies_origem = geografia_ies_origem.select(['SK_GEOGRAFIA_IES_ORIGEM']+[f.col(c).alias(pref_geografia_ies_origem_bolsa+c.lower()) for c in geografia_ies_origem.columns])\n",
    "ies_estudo = dwd_instituicao_ensino.withColumnRenamed('SK_INSTITUICAO_ENSINO', 'SK_IES_ESTUDO')\n",
    "ies_estudo = ies_estudo.select(['SK_IES_ESTUDO']+[f.col(c).alias(pref_ies_estudo_bolsa+c.lower()) for c in ies_estudo.columns])\n",
    "geografia_ies_estudo = dwd_geografia.withColumnRenamed('SK_GEOGRAFIA', 'SK_GEOGRAFIA_IES_ESTUDO')\n",
    "geografia_ies_estudo = geografia_ies_estudo.select(['SK_GEOGRAFIA_IES_ESTUDO']+[f.col(c).alias(pref_geografia_ies_estudo_bolsa+c.lower()) for c in geografia_ies_estudo.columns])\n",
    "dwd_modalidade_bolsa_bolsa = dwd_modalidade_bolsa.select(['SK_MODALIDADE_BOLSA']+[f.col(c).alias(pref_dwd_modalidade_bolsa+c.lower()) for c in dwd_modalidade_bolsa.columns])\n",
    "dwd_situacao_processo_bolsa = dwd_situacao_processo.select(['SK_SITUACAO_PROCESSO']+[f.col(c).alias(pref_dwd_situacao_processo_bolsa+c.lower()) for c in dwd_situacao_processo.columns])"
   ]
  },
  {
   "cell_type": "code",
   "execution_count": 17,
   "metadata": {},
   "outputs": [],
   "source": [
    "bolsa = \\\n",
    "dwd_processo_bolsa_bolsa \\\n",
    ".join(projeto, 'proj_sk_processo_projeto') \\\n",
    ".join(dwd_unidade_organizacional_bolsa, 'SK_UNIDADE_ORGANIZACIONAL') \\\n",
    ".join(dwd_programa_bolsa, 'SK_PROGRAMA') \\\n",
    ".join(dwd_edital_bolsa, 'SK_EDITAL') \\\n",
    ".join(dwd_tipo_beneficio_bolsa, 'SK_TIPO_BENEFICIO') \\\n",
    ".join(bolsista, 'SK_BOLSISTA') \\\n",
    ".join(geografia_exterior, 'SK_GEO_EXTERIOR') \\\n",
    ".join(geografia_brasil, 'SK_GEO_BRASIL') \\\n",
    ".join(ies_origem, 'SK_IES_ORIGEM') \\\n",
    ".join(geografia_ies_origem, 'SK_GEOGRAFIA_IES_ORIGEM') \\\n",
    ".join(ies_estudo, 'SK_IES_ESTUDO') \\\n",
    ".join(dwd_modalidade_bolsa_bolsa, 'SK_MODALIDADE_BOLSA') \\\n",
    ".join(dwd_situacao_processo_bolsa, 'SK_SITUACAO_PROCESSO')\n",
    "#.join(geografia_ies_estudo, 'SK_GEOGRAFIA_IES_ESTUDO') \\\n",
    "## Remove as SKs\n",
    "bolsa = \\\n",
    "bolsa \\\n",
    ".select([f.col('sk_processo_bolsa').alias('sk_processo')]+[f.col(c) for c in bolsa.columns if 'sk' not in c.lower()])\n",
    "## Adiciona o prefixo 'bolsa_' as colunas\n",
    "bolsa = \\\n",
    "bolsa \\\n",
    ".select([f.col(c).alias(pref_dwd_processo_bolsa_bolsa+c) for c in bolsa.columns if 'proj_' not in c]+[f.col(c) for c in bolsa.columns if 'proj_' in c])\n",
    "## Transforma as colunas 'dt' em data\n",
    "bolsa_columns = []\n",
    "for i in [f.col(c) for c in bolsa.columns]:\n",
    "    if '_dt_' in str(i).lower():\n",
    "        bolsa_columns.append(i.cast('date'))\n",
    "    else:\n",
    "        bolsa_columns.append(i)\n",
    "bolsa = \\\n",
    "bolsa \\\n",
    ".select(bolsa_columns)"
   ]
  },
  {
   "cell_type": "markdown",
   "metadata": {},
   "source": [
    "### AUXPE"
   ]
  },
  {
   "cell_type": "code",
   "execution_count": 18,
   "metadata": {},
   "outputs": [],
   "source": [
    "##Prefixo\n",
    "pref_dwd_processo_auxpe_auxpe = 'auxpe_'\n",
    "pref_dwd_unidade_organizacional_auxpe = 'uo_'\n",
    "pref_dwd_programa_auxpe = 'programa_'\n",
    "pref_dwd_edital_auxpe = 'edital_'\n",
    "pref_dwd_tipo_beneficio_auxpe = 'tp_beneficio_'\n",
    "pref_beneficiario_auxpe = 'beneficiario_'\n",
    "pref_geografia_exterior_auxpe = 'geo_exterior_'\n",
    "pref_geografia_brasil_auxpe = 'geo_brasil_'\n",
    "pref_ies_origem_auxpe = 'ies_ori_'\n",
    "pref_geografia_ies_origem_auxpe = 'geo_ies_ori_'\n",
    "pref_ies_estudo_auxpe = 'ies_estu_'\n",
    "pref_geografia_ies_estudo_auxpe = 'geo_ies_estu_'\n",
    "pref_dwd_situacao_processo_auxpe = 'st_proc_'"
   ]
  },
  {
   "cell_type": "code",
   "execution_count": 19,
   "metadata": {},
   "outputs": [],
   "source": [
    "dwd_processo_auxpe_auxpe = dwd_processo_auxpe.select([f.col(c) for c in dwd_processo_auxpe.columns if 'SK' in c] + \\\n",
    "    [f.col(c).alias(c.lower()) for c in dwd_processo_auxpe.columns if 'SK' not in c]) \\\n",
    "    .withColumnRenamed('SK_PROCESSO_PROJETO', 'proj_sk_processo_projeto')\n",
    "dwd_unidade_organizacional_auxpe = dwd_unidade_organizacional.select(['SK_UNIDADE_ORGANIZACIONAL']+[f.col(c).alias(pref_dwd_unidade_organizacional_auxpe+c.lower()) for c in dwd_unidade_organizacional.columns])\n",
    "dwd_programa_auxpe = dwd_programa.select(['SK_PROGRAMA']+[f.col(c).alias(pref_dwd_programa_auxpe+c.lower()) for c in dwd_programa.columns])\n",
    "dwd_edital_auxpe = dwd_edital.select(['SK_EDITAL']+[f.col(c).alias(pref_dwd_edital_auxpe+c.lower()) for c in dwd_edital.columns])\n",
    "dwd_tipo_beneficio_auxpe = dwd_tipo_beneficio.select(['SK_TIPO_BENEFICIO']+[f.col(c).alias(pref_dwd_tipo_beneficio_auxpe+c.lower()) for c in dwd_tipo_beneficio.columns])\n",
    "beneficiario = dwd_pessoa.withColumnRenamed('SK_PESSOA', 'SK_BENEFICIARIO')\n",
    "beneficiario = beneficiario.select(['SK_BENEFICIARIO']+[f.col(c).alias(pref_beneficiario_auxpe+c.lower()) for c in beneficiario.columns])\n",
    "geografia_exterior = dwd_geografia.withColumnRenamed('SK_GEOGRAFIA', 'SK_GEO_EXTERIOR')\n",
    "geografia_exterior = geografia_exterior.select(['SK_GEO_EXTERIOR']+[f.col(c).alias(pref_geografia_exterior_auxpe+c.lower()) for c in geografia_exterior.columns])\n",
    "geografia_brasil = dwd_geografia.withColumnRenamed('SK_GEOGRAFIA', 'SK_GEO_BRASIL')\n",
    "geografia_brasil = geografia_brasil.select(['SK_GEO_BRASIL']+[f.col(c).alias(pref_geografia_brasil_auxpe+c.lower()) for c in geografia_brasil.columns])\n",
    "ies_origem = dwd_instituicao_ensino.withColumnRenamed('SK_INSTITUICAO_ENSINO', 'SK_IES_ORIGEM')\n",
    "ies_origem = ies_origem.select(['SK_IES_ORIGEM']+[f.col(c).alias(pref_ies_origem_auxpe+c.lower()) for c in ies_origem.columns])\n",
    "geografia_ies_origem = dwd_geografia.withColumnRenamed('SK_GEOGRAFIA', 'SK_GEOGRAFIA_IES_ORIGEM')\n",
    "geografia_ies_origem = geografia_ies_origem.select(['SK_GEOGRAFIA_IES_ORIGEM']+[f.col(c).alias(pref_geografia_ies_origem_auxpe+c.lower()) for c in geografia_ies_origem.columns])\n",
    "ies_estudo = dwd_instituicao_ensino.withColumnRenamed('SK_INSTITUICAO_ENSINO', 'SK_IES_ESTUDO')\n",
    "ies_estudo = ies_estudo.select(['SK_IES_ESTUDO']+[f.col(c).alias(pref_ies_estudo_auxpe+c.lower()) for c in ies_estudo.columns])\n",
    "geografia_ies_estudo = dwd_geografia.withColumnRenamed('SK_GEOGRAFIA', 'SK_GEOGRAFIA_IES_ESTUDO')\n",
    "geografia_ies_estudo = geografia_ies_estudo.select(['SK_GEOGRAFIA_IES_ESTUDO']+[f.col(c).alias(pref_geografia_ies_estudo_auxpe+c.lower()) for c in geografia_ies_estudo.columns])\n",
    "dwd_situacao_processo_auxpe = dwd_situacao_processo.select(['SK_SITUACAO_PROCESSO']+[f.col(c).alias(pref_dwd_situacao_processo_auxpe+c.lower()) for c in dwd_situacao_processo.columns])"
   ]
  },
  {
   "cell_type": "code",
   "execution_count": 20,
   "metadata": {},
   "outputs": [],
   "source": [
    "auxpe = \\\n",
    "dwd_processo_auxpe_auxpe \\\n",
    ".join(projeto, 'proj_sk_processo_projeto') \\\n",
    ".join(dwd_unidade_organizacional_auxpe, 'SK_UNIDADE_ORGANIZACIONAL') \\\n",
    ".join(dwd_programa_auxpe, 'SK_PROGRAMA') \\\n",
    ".join(dwd_edital_auxpe, 'SK_EDITAL') \\\n",
    ".join(dwd_tipo_beneficio_auxpe, 'SK_TIPO_BENEFICIO') \\\n",
    ".join(beneficiario, 'SK_BENEFICIARIO') \\\n",
    ".join(geografia_exterior, 'SK_GEO_EXTERIOR') \\\n",
    ".join(geografia_brasil, 'SK_GEO_BRASIL') \\\n",
    ".join(ies_origem, 'SK_IES_ORIGEM') \\\n",
    ".join(geografia_ies_origem, 'SK_GEOGRAFIA_IES_ORIGEM') \\\n",
    ".join(ies_estudo, 'SK_IES_ESTUDO') \\\n",
    ".join(dwd_situacao_processo_auxpe, 'SK_SITUACAO_PROCESSO')\n",
    "## Remove as SKs\n",
    "auxpe = \\\n",
    "auxpe \\\n",
    ".select([f.col('sk_processo_auxpe').alias('sk_processo')]+[f.col(c) for c in auxpe.columns if 'sk' not in c.lower()])\n",
    "## Adiciona o prefixo 'auxpe_' as colunas\n",
    "auxpe = \\\n",
    "auxpe \\\n",
    ".select([f.col(c).alias(pref_dwd_processo_auxpe_auxpe+c) for c in auxpe.columns if 'proj_' not in c]+[f.col(c) for c in auxpe.columns if 'proj_' in c])\n",
    "## Transforma as colunas 'dt' em data\n",
    "auxpe_columns = []\n",
    "for i in [f.col(c) for c in auxpe.columns]:\n",
    "    if '_dt_' in str(i).lower():\n",
    "        auxpe_columns.append(i.cast('date'))\n",
    "    else:\n",
    "        auxpe_columns.append(i)\n",
    "auxpe = \\\n",
    "auxpe \\\n",
    ".select(auxpe_columns)"
   ]
  },
  {
   "cell_type": "markdown",
   "metadata": {},
   "source": [
    "### Union Bolsa e AUXPE"
   ]
  },
  {
   "cell_type": "code",
   "execution_count": 21,
   "metadata": {},
   "outputs": [],
   "source": [
    "auxpe_union = auxpe.select([f.col(c).alias(str(c).replace(\"auxpe_\", \"\")) for c in auxpe.columns]) \\\n",
    "                   .withColumnRenamed('id_processo_auxpe', 'id_processo')\n",
    "bolsa_union = bolsa.select([f.col(c).alias(str(c).replace(\"bolsa_\", \"\")) for c in bolsa.columns]) \\\n",
    "                   .withColumnRenamed('id_processo_bolsa', 'id_processo') \\\n",
    "                   .withColumn('dt_termino', f.col('dt_termino_acompanhamento'))\n",
    "## Renomeia as colunas exclusivas AUXPE\n",
    "colunas_processo = []\n",
    "colunas_auxpe = []\n",
    "for i in auxpe_union.columns:\n",
    "    if i not in bolsa_union.columns:\n",
    "        colunas_auxpe.append(f.col(i).alias('auxpe_'+i))\n",
    "    if i in bolsa_union.columns:\n",
    "        colunas_processo.append(f.col(i).alias('processo_'+i))\n",
    "colunas_processo_auxpe = colunas_processo+colunas_auxpe\n",
    "## Renomeia as colunas exclusivas Bolsa\n",
    "colunas_processo = []\n",
    "colunas_bolsa = []\n",
    "for i in bolsa_union.columns:\n",
    "    if i not in auxpe_union.columns:\n",
    "        colunas_bolsa.append(f.col(i).alias('bolsa_'+i))\n",
    "    if i in auxpe_union.columns:\n",
    "        colunas_processo.append(f.col(i).alias('processo_'+i))\n",
    "colunas_processo_bolsa = colunas_processo+colunas_bolsa\n",
    "auxpe_union = auxpe_union.select(colunas_processo_auxpe)\n",
    "bolsa_union = bolsa_union.select(colunas_processo_bolsa)"
   ]
  },
  {
   "cell_type": "code",
   "execution_count": 22,
   "metadata": {},
   "outputs": [],
   "source": [
    "bolsa_auxpe = bolsa_union.unionByName(auxpe_union, allowMissingColumns=True)\n",
    "bolsa_auxpe = bolsa_auxpe.select([f.col(c) for c in bolsa_auxpe.columns if 'proj_' not in c]+[f.col(c).alias(c.replace('processo_', '')) for c in bolsa_auxpe.columns if 'proj_' in c])"
   ]
  },
  {
   "cell_type": "markdown",
   "metadata": {},
   "source": [
    "### Pagamento AUXPE"
   ]
  },
  {
   "cell_type": "code",
   "execution_count": 66,
   "metadata": {},
   "outputs": [],
   "source": [
    "pagamento_auxpe = auxpe.join(pagamento, 'auxpe_sk_processo', 'left')"
   ]
  },
  {
   "cell_type": "markdown",
   "metadata": {},
   "source": [
    "### Pagamento Bolsa"
   ]
  },
  {
   "cell_type": "code",
   "execution_count": 67,
   "metadata": {},
   "outputs": [],
   "source": [
    "pagamento_bolsa = bolsa.join(pagamento, 'bolsa_sk_processo', 'left')"
   ]
  },
  {
   "cell_type": "markdown",
   "metadata": {},
   "source": [
    "### Pagamento Bolsa AUXPE"
   ]
  },
  {
   "cell_type": "code",
   "execution_count": 68,
   "metadata": {},
   "outputs": [],
   "source": [
    "pagamento_bolsa_auxpe = bolsa_auxpe.join(pagamento, 'processo_sk_processo', 'left')"
   ]
  },
  {
   "cell_type": "markdown",
   "metadata": {},
   "source": [
    "### Salva df.csv.zip"
   ]
  },
  {
   "cell_type": "markdown",
   "metadata": {},
   "source": [
    "##Salva CSV\n",
    "def salva_csv(df, nm):\n",
    "    compression_opts = dict(method='zip', archive_name=f'{nm}.csv')\n",
    "    df.toPandas().to_csv(path_or_buf=f'./{nm}.zip', sep=';', na_rep='', float_format=None, columns=None, header=True, index=False, index_label=None, mode='w', encoding=None, compression=compression_opts, quoting=None, quotechar='\"', line_terminator=None, chunksize=200000, date_format=None, doublequote=True, escapechar=None, decimal=',', errors='strict', storage_options=None)"
   ]
  },
  {
   "cell_type": "markdown",
   "metadata": {},
   "source": [
    "##Salva CSV\n",
    "def salva_csv(df, nm):\n",
    "    df.repartition(6).write.csv(f'/home/bosco/{nm}', sep=';', header=True, mode='overwrite')"
   ]
  },
  {
   "cell_type": "code",
   "execution_count": 37,
   "metadata": {},
   "outputs": [],
   "source": [
    "##Salva parquet\n",
    "def salva_csv(df, nm):\n",
    "    df.repartition(6).write.parquet(f'/home/bosco/dw_desnormalizado/{nm}', mode='overwrite')"
   ]
  },
  {
   "cell_type": "code",
   "execution_count": 29,
   "metadata": {},
   "outputs": [
    {
     "name": "stdout",
     "output_type": "stream",
     "text": [
      "CPU times: user 2.23 ms, sys: 2.83 ms, total: 5.06 ms\n",
      "Wall time: 8.3 s\n"
     ]
    }
   ],
   "source": [
    "%%time\n",
    "salva_csv(projeto, 'projeto')"
   ]
  },
  {
   "cell_type": "code",
   "execution_count": 30,
   "metadata": {},
   "outputs": [
    {
     "name": "stdout",
     "output_type": "stream",
     "text": [
      "CPU times: user 14.9 ms, sys: 0 ns, total: 14.9 ms\n",
      "Wall time: 44.7 s\n"
     ]
    }
   ],
   "source": [
    "%%time\n",
    "salva_csv(bolsa, 'bolsa')"
   ]
  },
  {
   "cell_type": "code",
   "execution_count": 31,
   "metadata": {},
   "outputs": [
    {
     "name": "stdout",
     "output_type": "stream",
     "text": [
      "CPU times: user 5.56 ms, sys: 0 ns, total: 5.56 ms\n",
      "Wall time: 8.1 s\n"
     ]
    }
   ],
   "source": [
    "%%time\n",
    "salva_csv(auxpe, 'auxpe')"
   ]
  },
  {
   "cell_type": "code",
   "execution_count": 32,
   "metadata": {
    "scrolled": true
   },
   "outputs": [
    {
     "name": "stdout",
     "output_type": "stream",
     "text": [
      "CPU times: user 5.43 ms, sys: 0 ns, total: 5.43 ms\n",
      "Wall time: 10.4 s\n"
     ]
    }
   ],
   "source": [
    "%%time\n",
    "salva_csv(pagamento, 'pagamento')"
   ]
  },
  {
   "cell_type": "code",
   "execution_count": 33,
   "metadata": {
    "scrolled": true
   },
   "outputs": [
    {
     "name": "stdout",
     "output_type": "stream",
     "text": [
      "CPU times: user 12.4 ms, sys: 0 ns, total: 12.4 ms\n",
      "Wall time: 29.8 s\n"
     ]
    }
   ],
   "source": [
    "%%time\n",
    "salva_csv(bolsa_auxpe, 'bolsa_auxpe')"
   ]
  },
  {
   "cell_type": "code",
   "execution_count": 34,
   "metadata": {
    "scrolled": true
   },
   "outputs": [
    {
     "name": "stdout",
     "output_type": "stream",
     "text": [
      "CPU times: user 23.3 ms, sys: 0 ns, total: 23.3 ms\n",
      "Wall time: 1min 6s\n"
     ]
    }
   ],
   "source": [
    "%%time\n",
    "salva_csv(pagamento_auxpe, 'pagamento_auxpe')"
   ]
  },
  {
   "cell_type": "code",
   "execution_count": 35,
   "metadata": {
    "scrolled": true
   },
   "outputs": [
    {
     "name": "stdout",
     "output_type": "stream",
     "text": [
      "CPU times: user 23.1 ms, sys: 8.75 ms, total: 31.9 ms\n",
      "Wall time: 1min 32s\n"
     ]
    }
   ],
   "source": [
    "%%time\n",
    "salva_csv(pagamento_bolsa, 'pagamento_bolsa')"
   ]
  },
  {
   "cell_type": "code",
   "execution_count": 36,
   "metadata": {
    "scrolled": true
   },
   "outputs": [
    {
     "name": "stdout",
     "output_type": "stream",
     "text": [
      "CPU times: user 12.3 ms, sys: 19.2 ms, total: 31.5 ms\n",
      "Wall time: 1min 32s\n"
     ]
    }
   ],
   "source": [
    "%%time\n",
    "salva_csv(pagamento_bolsa_auxpe, 'pagamento_bolsa_auxpe')"
   ]
  },
  {
   "cell_type": "code",
   "execution_count": null,
   "metadata": {},
   "outputs": [],
   "source": [
    "ll"
   ]
  },
  {
   "cell_type": "code",
   "execution_count": 69,
   "metadata": {},
   "outputs": [
    {
     "data": {
      "text/plain": [
       "['processo_sk_processo',\n",
       " 'processo_id_processo',\n",
       " 'processo_nr_processo',\n",
       " 'processo_dt_inclusao',\n",
       " 'processo_dt_homologacao',\n",
       " 'processo_dt_aceite_implementacao',\n",
       " 'processo_dt_inicio',\n",
       " 'processo_dt_finalizacao',\n",
       " 'processo_dt_desistencia',\n",
       " 'processo_in_registro_ausente',\n",
       " 'processo_dt_carga',\n",
       " 'processo_dt_versionamento',\n",
       " 'processo_in_registro_ativo',\n",
       " 'processo_uo_id_unidade_organizacional',\n",
       " 'processo_uo_sg_diretoria',\n",
       " 'processo_uo_nm_diretoria',\n",
       " 'processo_uo_sg_coordenacao_geral',\n",
       " 'processo_uo_nm_coordenacao_geral',\n",
       " 'processo_uo_sg_coordenacao',\n",
       " 'processo_uo_nm_coordenacao',\n",
       " 'processo_uo_nr_nivel',\n",
       " 'processo_uo_nm_nivel',\n",
       " 'processo_uo_in_registro_ausente',\n",
       " 'processo_uo_dt_carga',\n",
       " 'processo_uo_dt_versionamento',\n",
       " 'processo_uo_in_registro_ativo',\n",
       " 'processo_programa_id_programa',\n",
       " 'processo_programa_sg_programa',\n",
       " 'processo_programa_nm_programa',\n",
       " 'processo_programa_in_registro_ausente',\n",
       " 'processo_programa_dt_carga',\n",
       " 'processo_programa_dt_versionamento',\n",
       " 'processo_programa_in_registro_ativo',\n",
       " 'processo_edital_id_edital',\n",
       " 'processo_edital_sg_edital',\n",
       " 'processo_edital_nr_edital',\n",
       " 'processo_edital_nm_edital',\n",
       " 'processo_edital_dt_inicio_vigencia',\n",
       " 'processo_edital_dt_termino_vigencia',\n",
       " 'processo_edital_ds_grupo_fomento',\n",
       " 'processo_edital_in_registro_ausente',\n",
       " 'processo_edital_dt_carga',\n",
       " 'processo_edital_dt_versionamento',\n",
       " 'processo_edital_in_registro_ativo',\n",
       " 'processo_tp_beneficio_id_tipo_beneficio',\n",
       " 'processo_tp_beneficio_ds_tipo_beneficio',\n",
       " 'processo_tp_beneficio_ds_tipo_destino',\n",
       " 'processo_tp_beneficio_in_registro_ausente',\n",
       " 'processo_tp_beneficio_dt_carga',\n",
       " 'processo_tp_beneficio_dt_versionamento',\n",
       " 'processo_tp_beneficio_in_registro_ativo',\n",
       " 'processo_beneficiario_id_pessoa',\n",
       " 'processo_beneficiario_in_registro_ausente',\n",
       " 'processo_beneficiario_dt_carga',\n",
       " 'processo_beneficiario_dt_versionamento',\n",
       " 'processo_beneficiario_in_registro_ativo',\n",
       " 'processo_beneficiario___index_level_0__',\n",
       " 'processo_geo_exterior_id_pais',\n",
       " 'processo_geo_exterior_id_municipio',\n",
       " 'processo_geo_exterior_nm_continente',\n",
       " 'processo_geo_exterior_sg_pais',\n",
       " 'processo_geo_exterior_nm_pais',\n",
       " 'processo_geo_exterior_cd_pais_iso',\n",
       " 'processo_geo_exterior_sg_regiao',\n",
       " 'processo_geo_exterior_nm_regiao',\n",
       " 'processo_geo_exterior_sg_uf',\n",
       " 'processo_geo_exterior_nm_uf',\n",
       " 'processo_geo_exterior_nm_municipio',\n",
       " 'processo_geo_exterior_nr_latitude_pais',\n",
       " 'processo_geo_exterior_nr_longitude_pais',\n",
       " 'processo_geo_exterior_nr_latitude_mun',\n",
       " 'processo_geo_exterior_nr_longitude_mun',\n",
       " 'processo_geo_exterior_nr_latitude_uf',\n",
       " 'processo_geo_exterior_nr_longitude_uf',\n",
       " 'processo_geo_exterior_in_cidade_alto_custo',\n",
       " 'processo_geo_exterior_ds_moeda_pais',\n",
       " 'processo_geo_exterior_in_registro_ausente',\n",
       " 'processo_geo_exterior_dt_carga',\n",
       " 'processo_geo_exterior_dt_versionamento',\n",
       " 'processo_geo_exterior_in_registro_ativo',\n",
       " 'processo_geo_exterior___index_level_0__',\n",
       " 'processo_geo_brasil_id_pais',\n",
       " 'processo_geo_brasil_id_municipio',\n",
       " 'processo_geo_brasil_nm_continente',\n",
       " 'processo_geo_brasil_sg_pais',\n",
       " 'processo_geo_brasil_nm_pais',\n",
       " 'processo_geo_brasil_cd_pais_iso',\n",
       " 'processo_geo_brasil_sg_regiao',\n",
       " 'processo_geo_brasil_nm_regiao',\n",
       " 'processo_geo_brasil_sg_uf',\n",
       " 'processo_geo_brasil_nm_uf',\n",
       " 'processo_geo_brasil_nm_municipio',\n",
       " 'processo_geo_brasil_nr_latitude_pais',\n",
       " 'processo_geo_brasil_nr_longitude_pais',\n",
       " 'processo_geo_brasil_nr_latitude_mun',\n",
       " 'processo_geo_brasil_nr_longitude_mun',\n",
       " 'processo_geo_brasil_nr_latitude_uf',\n",
       " 'processo_geo_brasil_nr_longitude_uf',\n",
       " 'processo_geo_brasil_in_cidade_alto_custo',\n",
       " 'processo_geo_brasil_ds_moeda_pais',\n",
       " 'processo_geo_brasil_in_registro_ausente',\n",
       " 'processo_geo_brasil_dt_carga',\n",
       " 'processo_geo_brasil_dt_versionamento',\n",
       " 'processo_geo_brasil_in_registro_ativo',\n",
       " 'processo_geo_brasil___index_level_0__',\n",
       " 'processo_ies_ori_id_instituicao_ensino',\n",
       " 'processo_ies_ori_sg_instituicao_ensino',\n",
       " 'processo_ies_ori_nm_instituicao_ensino',\n",
       " 'processo_ies_ori_ds_situacao',\n",
       " 'processo_ies_ori_ds_situacao_juridica',\n",
       " 'processo_ies_ori_ds_tipo_instituicao',\n",
       " 'processo_ies_ori_nm_continente',\n",
       " 'processo_ies_ori_sg_pais',\n",
       " 'processo_ies_ori_nm_pais',\n",
       " 'processo_ies_ori_cd_pais_iso',\n",
       " 'processo_ies_ori_nr_latitude_pais',\n",
       " 'processo_ies_ori_nr_longitude_pais',\n",
       " 'processo_ies_ori_nr_latitude_ies',\n",
       " 'processo_ies_ori_nr_longitude_ies',\n",
       " 'processo_ies_ori_in_registro_ausente',\n",
       " 'processo_ies_ori_dt_carga',\n",
       " 'processo_ies_ori_dt_versionamento',\n",
       " 'processo_ies_ori_in_registro_ativo',\n",
       " 'processo_geo_ies_ori_id_pais',\n",
       " 'processo_geo_ies_ori_id_municipio',\n",
       " 'processo_geo_ies_ori_nm_continente',\n",
       " 'processo_geo_ies_ori_sg_pais',\n",
       " 'processo_geo_ies_ori_nm_pais',\n",
       " 'processo_geo_ies_ori_cd_pais_iso',\n",
       " 'processo_geo_ies_ori_sg_regiao',\n",
       " 'processo_geo_ies_ori_nm_regiao',\n",
       " 'processo_geo_ies_ori_sg_uf',\n",
       " 'processo_geo_ies_ori_nm_uf',\n",
       " 'processo_geo_ies_ori_nm_municipio',\n",
       " 'processo_geo_ies_ori_nr_latitude_pais',\n",
       " 'processo_geo_ies_ori_nr_longitude_pais',\n",
       " 'processo_geo_ies_ori_nr_latitude_mun',\n",
       " 'processo_geo_ies_ori_nr_longitude_mun',\n",
       " 'processo_geo_ies_ori_nr_latitude_uf',\n",
       " 'processo_geo_ies_ori_nr_longitude_uf',\n",
       " 'processo_geo_ies_ori_in_cidade_alto_custo',\n",
       " 'processo_geo_ies_ori_ds_moeda_pais',\n",
       " 'processo_geo_ies_ori_in_registro_ausente',\n",
       " 'processo_geo_ies_ori_dt_carga',\n",
       " 'processo_geo_ies_ori_dt_versionamento',\n",
       " 'processo_geo_ies_ori_in_registro_ativo',\n",
       " 'processo_geo_ies_ori___index_level_0__',\n",
       " 'processo_ies_estu_id_instituicao_ensino',\n",
       " 'processo_ies_estu_sg_instituicao_ensino',\n",
       " 'processo_ies_estu_nm_instituicao_ensino',\n",
       " 'processo_ies_estu_ds_situacao',\n",
       " 'processo_ies_estu_ds_situacao_juridica',\n",
       " 'processo_ies_estu_ds_tipo_instituicao',\n",
       " 'processo_ies_estu_nm_continente',\n",
       " 'processo_ies_estu_sg_pais',\n",
       " 'processo_ies_estu_nm_pais',\n",
       " 'processo_ies_estu_cd_pais_iso',\n",
       " 'processo_ies_estu_nr_latitude_pais',\n",
       " 'processo_ies_estu_nr_longitude_pais',\n",
       " 'processo_ies_estu_nr_latitude_ies',\n",
       " 'processo_ies_estu_nr_longitude_ies',\n",
       " 'processo_ies_estu_in_registro_ausente',\n",
       " 'processo_ies_estu_dt_carga',\n",
       " 'processo_ies_estu_dt_versionamento',\n",
       " 'processo_ies_estu_in_registro_ativo',\n",
       " 'processo_st_proc_id_situacao_processo',\n",
       " 'processo_st_proc_ds_fase_processo',\n",
       " 'processo_st_proc_ds_situacao_processo',\n",
       " 'processo_st_proc_in_registro_ausente',\n",
       " 'processo_st_proc_dt_carga',\n",
       " 'processo_st_proc_dt_versionamento',\n",
       " 'processo_st_proc_in_registro_ativo',\n",
       " 'processo_dt_termino',\n",
       " 'bolsa_dt_chegada_exterior',\n",
       " 'bolsa_dt_termino_inicial',\n",
       " 'bolsa_dt_termino_acompanhamento',\n",
       " 'bolsa_dt_termino_pagamento',\n",
       " 'bolsa_dt_extensao',\n",
       " 'bolsa_dt_prorrogacao_com_onus',\n",
       " 'bolsa_dt_prorrogacao_sem_onus',\n",
       " 'bolsa_dt_assinatura_novacao',\n",
       " 'bolsa_dt_retorno',\n",
       " 'bolsa_dt_renovacao',\n",
       " 'bolsa_dt_ciclo_intersticio',\n",
       " 'bolsa_qt_dependente_ativo',\n",
       " 'bolsa_dt_ultima_mensalidade',\n",
       " 'bolsa_ds_moeda_ultima_mensalidade',\n",
       " 'bolsa_vl_ultima_mensalidade',\n",
       " 'bolsa_in_recebeu_pagamento',\n",
       " 'bolsa_in_projeto',\n",
       " 'bolsa_in_finalizacao',\n",
       " 'bolsa_qt_mensalidade_paga',\n",
       " 'bolsa_qt_meses_a_pagar',\n",
       " 'bolsa_qt_duracao_pagamento_mes',\n",
       " 'bolsa_qt_duracao_acompanhamento_mes',\n",
       " 'bolsa___index_level_0__',\n",
       " 'bolsa_modalidade_id_modalidade_bolsa',\n",
       " 'bolsa_modalidade_ds_modalidade_bolsa',\n",
       " 'bolsa_modalidade_qt_meses_prevista_bolsa',\n",
       " 'bolsa_modalidade_in_registro_ausente',\n",
       " 'bolsa_modalidade_dt_carga',\n",
       " 'bolsa_modalidade_dt_versionamento',\n",
       " 'bolsa_modalidade_in_registro_ativo',\n",
       " 'auxpe_nr_auxilio',\n",
       " 'auxpe_dt_inicio_evento',\n",
       " 'auxpe_dt_fim_evento',\n",
       " 'auxpe_qt_ano_calendario',\n",
       " 'auxpe_nr_duracao_mes',\n",
       " 'auxpe_vl_capital_aprovado',\n",
       " 'auxpe_vl_capital_concedido',\n",
       " 'auxpe_vl_custeio_aprovado',\n",
       " 'auxpe_vl_custeio_concedido',\n",
       " 'auxpe_vl_total_aprovado',\n",
       " 'auxpe_vl_total_concedido',\n",
       " 'auxpe_vl_total_pago',\n",
       " 'auxpe_vl_total_gasto',\n",
       " 'auxpe_vl_total_prestado',\n",
       " 'auxpe_vl_total_devolvido',\n",
       " 'proj_id_projeto',\n",
       " 'proj_nr_processo',\n",
       " 'proj_ds_projeto',\n",
       " 'proj_dt_inclusao',\n",
       " 'proj_dt_homologacao',\n",
       " 'proj_dt_inicio',\n",
       " 'proj_dt_termino',\n",
       " 'proj_dt_renovacao',\n",
       " 'proj_dt_finalizacao',\n",
       " 'proj_qt_auxpe',\n",
       " 'proj_qt_ies_participante',\n",
       " 'proj_qt_ano_calendario',\n",
       " 'proj_nr_duracao_mes',\n",
       " 'proj_vl_capital_aprovado',\n",
       " 'proj_vl_custeio_aprovado',\n",
       " 'proj_vl_total_aprovado',\n",
       " 'proj_vl_total_pago',\n",
       " 'proj_in_registro_ausente',\n",
       " 'proj_dt_carga',\n",
       " 'proj_dt_versionamento',\n",
       " 'proj_in_registro_ativo',\n",
       " 'proj_uo_id_unidade_organizacional',\n",
       " 'proj_uo_sg_diretoria',\n",
       " 'proj_uo_nm_diretoria',\n",
       " 'proj_uo_sg_coordenacao_geral',\n",
       " 'proj_uo_nm_coordenacao_geral',\n",
       " 'proj_uo_sg_coordenacao',\n",
       " 'proj_uo_nm_coordenacao',\n",
       " 'proj_uo_nr_nivel',\n",
       " 'proj_uo_nm_nivel',\n",
       " 'proj_uo_in_registro_ausente',\n",
       " 'proj_uo_dt_carga',\n",
       " 'proj_uo_dt_versionamento',\n",
       " 'proj_uo_in_registro_ativo',\n",
       " 'proj_programa_id_programa',\n",
       " 'proj_programa_sg_programa',\n",
       " 'proj_programa_nm_programa',\n",
       " 'proj_programa_in_registro_ausente',\n",
       " 'proj_programa_dt_carga',\n",
       " 'proj_programa_dt_versionamento',\n",
       " 'proj_programa_in_registro_ativo',\n",
       " 'proj_edital_id_edital',\n",
       " 'proj_edital_sg_edital',\n",
       " 'proj_edital_nr_edital',\n",
       " 'proj_edital_nm_edital',\n",
       " 'proj_edital_dt_inicio_vigencia',\n",
       " 'proj_edital_dt_termino_vigencia',\n",
       " 'proj_edital_ds_grupo_fomento',\n",
       " 'proj_edital_in_registro_ausente',\n",
       " 'proj_edital_dt_carga',\n",
       " 'proj_edital_dt_versionamento',\n",
       " 'proj_edital_in_registro_ativo',\n",
       " 'proj_tp_beneficio_id_tipo_beneficio',\n",
       " 'proj_tp_beneficio_ds_tipo_beneficio',\n",
       " 'proj_tp_beneficio_ds_tipo_destino',\n",
       " 'proj_tp_beneficio_in_registro_ausente',\n",
       " 'proj_tp_beneficio_dt_carga',\n",
       " 'proj_tp_beneficio_dt_versionamento',\n",
       " 'proj_tp_beneficio_in_registro_ativo',\n",
       " 'proj_ies_princip_id_instituicao_ensino',\n",
       " 'proj_ies_princip_sg_instituicao_ensino',\n",
       " 'proj_ies_princip_nm_instituicao_ensino',\n",
       " 'proj_ies_princip_ds_situacao',\n",
       " 'proj_ies_princip_ds_situacao_juridica',\n",
       " 'proj_ies_princip_ds_tipo_instituicao',\n",
       " 'proj_ies_princip_nm_continente',\n",
       " 'proj_ies_princip_sg_pais',\n",
       " 'proj_ies_princip_nm_pais',\n",
       " 'proj_ies_princip_cd_pais_iso',\n",
       " 'proj_ies_princip_nr_latitude_pais',\n",
       " 'proj_ies_princip_nr_longitude_pais',\n",
       " 'proj_ies_princip_nr_latitude_ies',\n",
       " 'proj_ies_princip_nr_longitude_ies',\n",
       " 'proj_ies_princip_in_registro_ausente',\n",
       " 'proj_ies_princip_dt_carga',\n",
       " 'proj_ies_princip_dt_versionamento',\n",
       " 'proj_ies_princip_in_registro_ativo',\n",
       " 'proj_geo_resp_princp_id_pais',\n",
       " 'proj_geo_resp_princp_id_municipio',\n",
       " 'proj_geo_resp_princp_nm_continente',\n",
       " 'proj_geo_resp_princp_sg_pais',\n",
       " 'proj_geo_resp_princp_nm_pais',\n",
       " 'proj_geo_resp_princp_cd_pais_iso',\n",
       " 'proj_geo_resp_princp_sg_regiao',\n",
       " 'proj_geo_resp_princp_nm_regiao',\n",
       " 'proj_geo_resp_princp_sg_uf',\n",
       " 'proj_geo_resp_princp_nm_uf',\n",
       " 'proj_geo_resp_princp_nm_municipio',\n",
       " 'proj_geo_resp_princp_nr_latitude_pais',\n",
       " 'proj_geo_resp_princp_nr_longitude_pais',\n",
       " 'proj_geo_resp_princp_nr_latitude_mun',\n",
       " 'proj_geo_resp_princp_nr_longitude_mun',\n",
       " 'proj_geo_resp_princp_nr_latitude_uf',\n",
       " 'proj_geo_resp_princp_nr_longitude_uf',\n",
       " 'proj_geo_resp_princp_in_cidade_alto_custo',\n",
       " 'proj_geo_resp_princp_ds_moeda_pais',\n",
       " 'proj_geo_resp_princp_in_registro_ausente',\n",
       " 'proj_geo_resp_princp_dt_carga',\n",
       " 'proj_geo_resp_princp_dt_versionamento',\n",
       " 'proj_geo_resp_princp_in_registro_ativo',\n",
       " 'proj_geo_resp_princp___index_level_0__',\n",
       " 'proj_resp_princp_id_pessoa',\n",
       " 'proj_resp_princp_in_registro_ausente',\n",
       " 'proj_resp_princp_dt_carga',\n",
       " 'proj_resp_princp_dt_versionamento',\n",
       " 'proj_resp_princp_in_registro_ativo',\n",
       " 'proj_resp_princp___index_level_0__',\n",
       " 'proj_st_proc_id_situacao_processo',\n",
       " 'proj_st_proc_ds_fase_processo',\n",
       " 'proj_st_proc_ds_situacao_processo',\n",
       " 'proj_st_proc_in_registro_ausente',\n",
       " 'proj_st_proc_dt_carga',\n",
       " 'proj_st_proc_dt_versionamento',\n",
       " 'proj_st_proc_in_registro_ativo',\n",
       " 'bolsa_sk_processo',\n",
       " 'auxpe_sk_processo',\n",
       " 'pgt_nr_solicitacao',\n",
       " 'pgt_vl_pagamento_origem',\n",
       " 'pgt_vl_pagamento_usd',\n",
       " 'pgt_vl_pagamento_brl',\n",
       " 'pgt_dh_carga',\n",
       " 'pgt___index_level_0__',\n",
       " 'pgt_rubrica_id_rubrica',\n",
       " 'pgt_rubrica_nm_rubrica',\n",
       " 'pgt_rubrica_cd_natureza_despesa',\n",
       " 'pgt_rubrica_ds_natureza_despesa',\n",
       " 'pgt_rubrica_in_mensalidade',\n",
       " 'pgt_rubrica_tp_frequencia_pagamento',\n",
       " 'pgt_rubrica_tp_natureza',\n",
       " 'pgt_rubrica_in_somente_dependente',\n",
       " 'pgt_rubrica_in_bolsa_exterior',\n",
       " 'pgt_rubrica_in_bolsa_pais',\n",
       " 'pgt_rubrica_in_auxilio_pais',\n",
       " 'pgt_rubrica_in_auxilio_exterior',\n",
       " 'pgt_rubrica_in_rubrica_ativa',\n",
       " 'pgt_rubrica_in_registro_ausente',\n",
       " 'pgt_rubrica_dt_carga',\n",
       " 'pgt_rubrica_dt_versionamento',\n",
       " 'pgt_rubrica_in_registro_ativo',\n",
       " 'pgt_tp_solicitacao_id_tipo_solicitacao',\n",
       " 'pgt_tp_solicitacao_ds_tipo_solicitacao',\n",
       " 'pgt_tp_solicitacao_ds_subtipo_solicitacao',\n",
       " 'pgt_tp_solicitacao_in_registro_ausente',\n",
       " 'pgt_tp_solicitacao_dt_carga',\n",
       " 'pgt_tp_solicitacao_dt_versionamento',\n",
       " 'pgt_tp_solicitacao_in_registro_ativo',\n",
       " 'pgt_moeda_id_moeda',\n",
       " 'pgt_moeda_cd_moeda',\n",
       " 'pgt_moeda_nm_moeda',\n",
       " 'pgt_moeda_cd_simbolo_moeda',\n",
       " 'pgt_moeda_in_registro_ausente',\n",
       " 'pgt_moeda_dt_carga',\n",
       " 'pgt_moeda_dt_versionamento',\n",
       " 'pgt_moeda_in_registro_ativo',\n",
       " 'pgt_dt_pagamento',\n",
       " 'pgt_dt_referencia',\n",
       " 'pgt_vl_pago_origem',\n",
       " 'pgt_vl_empenhado_origem',\n",
       " 'pgt_vl_pago_brl',\n",
       " 'pgt_vl_empenhado_brl',\n",
       " 'pgt_vl_pago_usd',\n",
       " 'pgt_vl_empenhado_usd']"
      ]
     },
     "execution_count": 69,
     "metadata": {},
     "output_type": "execute_result"
    }
   ],
   "source": [
    "pagamento_bolsa_auxpe.columns"
   ]
  },
  {
   "cell_type": "code",
   "execution_count": 70,
   "metadata": {
    "scrolled": false
   },
   "outputs": [
    {
     "name": "stdout",
     "output_type": "stream",
     "text": [
      "+--------------------------------------+--------------------------------------+--------+-----------------------+\n",
      "|pgt_tp_solicitacao_id_tipo_solicitacao|pgt_tp_solicitacao_ds_tipo_solicitacao|count(1)|pgt_vl_pagamento_origem|\n",
      "+--------------------------------------+--------------------------------------+--------+-----------------------+\n",
      "|                                     4|                             Devolução|   46969|   -4.862111362000001E7|\n",
      "|                                     1|                             Pagamento| 1461778|   2.8797223033500047E9|\n",
      "|                                     0|                               Empenho|    4690|   2.9580121534000003E8|\n",
      "|                                  null|                                  null|   84059|                   null|\n",
      "+--------------------------------------+--------------------------------------+--------+-----------------------+\n",
      "\n"
     ]
    }
   ],
   "source": [
    "pagamento_bolsa_auxpe \\\n",
    ".groupBy('pgt_tp_solicitacao_id_tipo_solicitacao', 'pgt_tp_solicitacao_ds_tipo_solicitacao').agg(f.count('*'), f.sum('pgt_vl_pagamento_origem').alias('pgt_vl_pagamento_origem')) \\\n",
    ".sort(f.col('pgt_tp_solicitacao_id_tipo_solicitacao').desc()) \\\n",
    ".show()"
   ]
  },
  {
   "cell_type": "code",
   "execution_count": 45,
   "metadata": {
    "scrolled": true
   },
   "outputs": [
    {
     "name": "stdout",
     "output_type": "stream",
     "text": [
      "+--------------------+-----------------------+\n",
      "|processo_nr_processo|pgt_vl_pagamento_origem|\n",
      "+--------------------+-----------------------+\n",
      "|88881.309849/2018-01|              9622200.0|\n",
      "|88881.309873/2018-01|              2760703.0|\n",
      "|88881.309857/2018-01|              2155198.0|\n",
      "|88887.465590/2019-00|              2144260.0|\n",
      "|88881.370753/2019-01|              1887944.0|\n",
      "|88881.309862/2018-01|              1717250.0|\n",
      "|88881.333660/2019-01|              1581000.0|\n",
      "|88887.371224/2019-00|              1415850.0|\n",
      "|88887.371519/2019-00|              1411076.0|\n",
      "|88881.309855/2018-01|              1384100.0|\n",
      "|88881.309859/2018-01|              1368380.0|\n",
      "|88887.367978/2019-00|              1248676.0|\n",
      "|88887.363605/2019-00|              1228176.0|\n",
      "|88881.310503/2018-01|              1140000.0|\n",
      "|88881.310501/2018-01|              1110000.0|\n",
      "|88881.309851/2018-01|              1076415.0|\n",
      "|88881.311735/2018-01|              1035497.0|\n",
      "|88881.310287/2018-01|               980942.0|\n",
      "|88881.312296/2018-01|               965747.0|\n",
      "|88881.311897/2018-01|               796696.0|\n",
      "+--------------------+-----------------------+\n",
      "only showing top 20 rows\n",
      "\n"
     ]
    }
   ],
   "source": [
    "pagamento_bolsa_auxpe \\\n",
    ".filter(f.col('processo_programa_sg_programa')=='CAPES-PRINT') \\\n",
    ".filter(f.col('pgt_tp_solicitacao_id_tipo_solicitacao')==1) \\\n",
    ".groupBy('processo_nr_processo').agg(f.sum('pgt_vl_pagamento_origem').alias('pgt_vl_pagamento_origem')) \\\n",
    ".sort(f.col('pgt_vl_pagamento_origem').desc()) \\\n",
    ".show()"
   ]
  }
 ],
 "metadata": {
  "kernelspec": {
   "display_name": "Python 3",
   "language": "python",
   "name": "python3"
  }
 },
 "nbformat": 4,
 "nbformat_minor": 4
}
