{
 "cells": [
  {
   "cell_type": "markdown",
   "metadata": {},
   "source": [
    "# Aplicação para desnormalizar as dimensões e fato"
   ]
  },
  {
   "cell_type": "code",
   "execution_count": 1,
   "metadata": {},
   "outputs": [
    {
     "data": {
      "text/html": [
       "<style>pre { white-space: pre !important; }</style>"
      ],
      "text/plain": [
       "<IPython.core.display.HTML object>"
      ]
     },
     "metadata": {},
     "output_type": "display_data"
    }
   ],
   "source": [
    "from IPython.core.display import HTML\n",
    "display(HTML(\"<style>pre { white-space: pre !important; }</style>\"))"
   ]
  },
  {
   "cell_type": "code",
   "execution_count": 311,
   "metadata": {},
   "outputs": [],
   "source": [
    "from pyspark.sql import SparkSession\n",
    "from pyspark.conf import SparkConf\n",
    "from pyspark.sql import functions as f\n",
    "from pyspark.sql.types import *\n",
    "from pyspark.sql import Window"
   ]
  },
  {
   "cell_type": "code",
   "execution_count": 3,
   "metadata": {},
   "outputs": [],
   "source": [
    "spark = SparkSession.builder.getOrCreate()\n",
    "spark.conf.set(\"spark.sql.shuffle.partitions\",spark.sparkContext.defaultParallelism)\n",
    "spark.conf.set('spark.sql.legacy.parquet.datetimeRebaseModeInRead', 'LEGACY')\n",
    "spark.conf.set('spark.sql.legacy.parquet.int96RebaseModeInWrite', 'LEGACY')\n",
    "spark.conf.set('spark.sql.legacy.parquet.datetimeRebaseModeInWrite', 'LEGACY')"
   ]
  },
  {
   "cell_type": "code",
   "execution_count": 4,
   "metadata": {},
   "outputs": [
    {
     "data": {
      "text/plain": [
       "[('spark.driver.port', '37027'),\n",
       " ('spark.executor.id', 'driver'),\n",
       " ('spark.driver.host', 'localhost'),\n",
       " ('spark.driver.memory', '16g'),\n",
       " ('spark.app.name', 'PySparkShell'),\n",
       " ('spark.sql.warehouse.dir', 'file:/home/bosco/spark-etl/spark-warehouse'),\n",
       " ('spark.app.startTime', '1621172441864'),\n",
       " ('spark.sql.catalogImplementation', 'hive'),\n",
       " ('spark.rdd.compress', 'True'),\n",
       " ('spark.serializer.objectStreamReset', '100'),\n",
       " ('spark.master', 'local[*]'),\n",
       " ('spark.submit.pyFiles', ''),\n",
       " ('spark.submit.deployMode', 'client'),\n",
       " ('spark.app.id', 'local-1621172442606'),\n",
       " ('spark.ui.showConsoleProgress', 'true')]"
      ]
     },
     "execution_count": 4,
     "metadata": {},
     "output_type": "execute_result"
    }
   ],
   "source": [
    "spark.sparkContext.getConf().getAll()"
   ]
  },
  {
   "cell_type": "code",
   "execution_count": 255,
   "metadata": {
    "scrolled": true
   },
   "outputs": [],
   "source": [
    "dwd_calendario = spark.read.parquet('/home/bosco/dw_dri_parquet/DW_DRI.DWD_CALENDARIO.parquet')\n",
    "dwd_edital = spark.read.parquet('/home/bosco/dw_dri_parquet/DW_DRI.DWD_EDITAL.parquet')\n",
    "dwd_elemento_despesa = spark.read.parquet('/home/bosco/dw_dri_parquet/DW_DRI.DWD_ELEMENTO_DESPESA.parquet')\n",
    "dwd_geografia = spark.read.parquet('/home/bosco/dw_dri_parquet/DW_DRI.DWD_GEOGRAFIA.parquet')\n",
    "dwd_instituicao_ensino = spark.read.parquet('/home/bosco/dw_dri_parquet/DW_DRI.DWD_INSTITUICAO_ENSINO.parquet')\n",
    "dwd_modalidade_bolsa = spark.read.parquet('/home/bosco/dw_dri_parquet/DW_DRI.DWD_MODALIDADE_BOLSA.parquet')\n",
    "dwd_moeda = spark.read.parquet('/home/bosco/dw_dri_parquet/DW_DRI.DWD_MOEDA.parquet')\n",
    "dwd_pessoa = spark.read.parquet('/home/bosco/dw_dri_parquet/DW_DRI.DWD_PESSOA.parquet')\n",
    "dwd_processo_projeto = spark.read.parquet('/home/bosco/dw_dri_parquet/DW_DRI.DWD_PROCESSO_PROJETO.parquet')\n",
    "dwd_processo_bolsa = spark.read.parquet('/home/bosco/dw_dri_parquet/DW_DRI.DWD_PROCESSO_BOLSA.parquet')\n",
    "dwd_processo_auxpe = spark.read.parquet('/home/bosco/dw_dri_parquet/DW_DRI.DWD_PROCESSO_AUXPE.parquet')\n",
    "dwd_programa = spark.read.parquet('/home/bosco/dw_dri_parquet/DW_DRI.DWD_PROGRAMA.parquet')\n",
    "dwd_rubrica = spark.read.parquet('/home/bosco/dw_dri_parquet/DW_DRI.DWD_RUBRICA.parquet')\n",
    "dwd_situacao_prestacao = spark.read.parquet('/home/bosco/dw_dri_parquet/DW_DRI.DWD_SITUACAO_PRESTACAO.parquet')\n",
    "dwd_situacao_processo = spark.read.parquet('/home/bosco/dw_dri_parquet/DW_DRI.DWD_SITUACAO_PROCESSO.parquet')\n",
    "dwd_tipo_beneficio = spark.read.parquet('/home/bosco/dw_dri_parquet/DW_DRI.DWD_TIPO_BENEFICIO.parquet')\n",
    "dwd_tipo_solicitacao = spark.read.parquet('/home/bosco/dw_dri_parquet/DW_DRI.DWD_TIPO_SOLICITACAO.parquet')\n",
    "dwd_unidade_organizacional = spark.read.parquet('/home/bosco/dw_dri_parquet/DW_DRI.DWD_UNIDADE_ORGANIZACIONAL.parquet')\n",
    "dwf_extrato_cartao_pesquisador = spark.read.parquet('/home/bosco/dw_dri_parquet/DW_DRI.DWF_EXTRATO_CARTAO_PESQUISADOR.parquet')\n",
    "dwf_pagamento = spark.read.parquet('/home/bosco/dw_dri_parquet/DW_DRI.DWF_PAGAMENTO.parquet')\n",
    "dwf_prestacao_conta = spark.read.parquet('/home/bosco/dw_dri_parquet/DW_DRI.DWF_PRESTACAO_CONTA.parquet')\n",
    "dwd_beneficio_bolsa = spark.read.parquet('/home/bosco/dw_dri_parquet/dwd_beneficio_bolsa.parquet')"
   ]
  },
  {
   "cell_type": "markdown",
   "metadata": {},
   "source": [
    "### Função para fazer cache"
   ]
  },
  {
   "cell_type": "code",
   "execution_count": 6,
   "metadata": {},
   "outputs": [],
   "source": [
    "##Faz o cache da tabela reparticionada\n",
    "def _cache(df):\n",
    "    return df.sort(df.columns[0]).repartition(6, df.columns[0]).cache().count()"
   ]
  },
  {
   "cell_type": "markdown",
   "metadata": {},
   "source": [
    "## Tabelas fato"
   ]
  },
  {
   "cell_type": "markdown",
   "metadata": {},
   "source": [
    "### Pagamento"
   ]
  },
  {
   "cell_type": "code",
   "execution_count": 7,
   "metadata": {},
   "outputs": [],
   "source": [
    "##Prefixo\n",
    "pref_dwf_pagamento = 'pagamento_'\n",
    "pref_dwd_rubrica_pgt = 'rubrica_'\n",
    "pref_dwd_tipo_solicitacao_pgt = 'tp_solicitacao_'\n",
    "pref_dwd_moeda_pgt = 'moeda_'"
   ]
  },
  {
   "cell_type": "code",
   "execution_count": 8,
   "metadata": {},
   "outputs": [],
   "source": [
    "dwf_pagamento_pagamento = dwf_pagamento.select([f.col(c) for c in dwf_pagamento.columns if 'SK' in c] + \\\n",
    "    [f.col(c).alias(c.lower()) for c in dwf_pagamento.columns if 'SK' not in c])\n",
    "dwd_rubrica_pgt = dwd_rubrica.select(['SK_RUBRICA']+[f.col(c).alias(pref_dwd_rubrica_pgt+c.lower()) for c in dwd_rubrica.columns])\n",
    "dwd_tipo_solicitacao_pgt = dwd_tipo_solicitacao.select(['SK_TIPO_SOLICITACAO']+[f.col(c).alias(pref_dwd_tipo_solicitacao_pgt+c.lower()) for c in dwd_tipo_solicitacao.columns])\n",
    "dwd_moeda_pgt = dwd_moeda.select(['SK_MOEDA']+[f.col(c).alias(pref_dwd_moeda_pgt+c.lower()) for c in dwd_moeda.columns])"
   ]
  },
  {
   "cell_type": "code",
   "execution_count": 9,
   "metadata": {},
   "outputs": [],
   "source": [
    "pagamento = \\\n",
    "dwf_pagamento_pagamento \\\n",
    ".join(dwd_rubrica_pgt, 'SK_RUBRICA') \\\n",
    ".join(dwd_tipo_solicitacao_pgt, 'SK_TIPO_SOLICITACAO') \\\n",
    ".join(dwd_moeda_pgt, 'SK_MOEDA') \\\n",
    ".withColumn('dt_pagamento', f.to_date(f.col('SK_DATA_PAGAMENTO').cast('string'), 'yyyyMMdd')) \\\n",
    ".withColumn('dt_referencia', f.to_date(f.col('SK_DATA_REFERENCIA').cast('string'), 'yyyyMMdd')) \\\n",
    ".withColumn('processo_sk_processo', f.when(f.col('SK_PROCESSO_BOLSA')>0, f.col('SK_PROCESSO_BOLSA')).otherwise(f.lit(-1))) \\\n",
    ".withColumn('processo_sk_processo', f.when(f.col('SK_PROCESSO_AUXPE')>0, f.col('SK_PROCESSO_AUXPE')).otherwise(f.col('processo_sk_processo'))) \\\n",
    ".withColumnRenamed('SK_PROCESSO_BOLSA', 'bolsa_sk_processo') \\\n",
    ".withColumnRenamed('SK_PROCESSO_AUXPE', 'auxpe_sk_processo')\n",
    "## Remove as SKs\n",
    "pagamento = \\\n",
    "pagamento \\\n",
    ".select(['processo_sk_processo', 'bolsa_sk_processo', 'auxpe_sk_processo']+[f.col(c) for c in pagamento.columns if 'sk' not in c.lower()])\n",
    "## Adiciona o prefixo 'pagamento_' as colunas\n",
    "pagamento = \\\n",
    "pagamento \\\n",
    ".select([f.col(c).alias(pref_dwf_pagamento+c) for c in pagamento.columns])\n",
    "## Transforma as colunas 'dt' em data\n",
    "pagamento_columns = []\n",
    "for i in [f.col(c) for c in pagamento.columns if 'sk' not in c.lower()]:\n",
    "    if '_dt_' in str(i).lower():\n",
    "        pagamento_columns.append(i.cast('date'))\n",
    "    else:\n",
    "        pagamento_columns.append(i)\n",
    "pagamento = pagamento.select(\\\n",
    "                             [f.col(pref_dwf_pagamento+'processo_sk_processo').alias('processo_sk_processo'), \\\n",
    "                              f.col(pref_dwf_pagamento+'bolsa_sk_processo').alias('bolsa_sk_processo'), \\\n",
    "                              f.col(pref_dwf_pagamento+'auxpe_sk_processo').alias('auxpe_sk_processo')] \\\n",
    "                             + pagamento_columns)"
   ]
  },
  {
   "cell_type": "markdown",
   "metadata": {},
   "source": [
    "#### Colunas calculadas"
   ]
  },
  {
   "cell_type": "code",
   "execution_count": 10,
   "metadata": {},
   "outputs": [],
   "source": [
    "pagamento = pagamento \\\n",
    "                .withColumn(pref_dwf_pagamento+'vl_pago_origem', f.when(f.col(pref_dwf_pagamento+'tp_solicitacao_id_tipo_solicitacao').isin(1, 4), f.col(pref_dwf_pagamento+'vl_pagamento_origem')).otherwise(f.lit(0))) \\\n",
    "                .withColumn(pref_dwf_pagamento+'vl_empenhado_origem', f.when(f.col(pref_dwf_pagamento+'tp_solicitacao_id_tipo_solicitacao').isin(0), f.col(pref_dwf_pagamento+'vl_pagamento_origem')).otherwise(f.lit(0))) \\\n",
    "                .withColumn(pref_dwf_pagamento+'vl_pago_brl', f.when(f.col(pref_dwf_pagamento+'tp_solicitacao_id_tipo_solicitacao').isin(1, 4), f.col(pref_dwf_pagamento+'vl_pagamento_brl')).otherwise(f.lit(0))) \\\n",
    "                .withColumn(pref_dwf_pagamento+'vl_empenhado_brl', f.when(f.col(pref_dwf_pagamento+'tp_solicitacao_id_tipo_solicitacao').isin(0), f.col(pref_dwf_pagamento+'vl_pagamento_brl')).otherwise(f.lit(0))) \\\n",
    "                .withColumn(pref_dwf_pagamento+'vl_pago_usd', f.when(f.col(pref_dwf_pagamento+'tp_solicitacao_id_tipo_solicitacao').isin(1, 4), f.col(pref_dwf_pagamento+'vl_pagamento_usd')).otherwise(f.lit(0))) \\\n",
    "                .withColumn(pref_dwf_pagamento+'vl_empenhado_usd', f.when(f.col(pref_dwf_pagamento+'tp_solicitacao_id_tipo_solicitacao').isin(0), f.col(pref_dwf_pagamento+'vl_pagamento_usd')).otherwise(f.lit(0)))"
   ]
  },
  {
   "cell_type": "code",
   "execution_count": 11,
   "metadata": {},
   "outputs": [
    {
     "name": "stdout",
     "output_type": "stream",
     "text": [
      "CPU times: user 8.95 ms, sys: 3.45 ms, total: 12.4 ms\n",
      "Wall time: 21.3 s\n"
     ]
    },
    {
     "data": {
      "text/plain": [
       "1507942"
      ]
     },
     "execution_count": 11,
     "metadata": {},
     "output_type": "execute_result"
    }
   ],
   "source": [
    "%%time\n",
    "_cache(pagamento)"
   ]
  },
  {
   "cell_type": "markdown",
   "metadata": {},
   "source": [
    "### Benefício concedido"
   ]
  },
  {
   "cell_type": "code",
   "execution_count": 86,
   "metadata": {},
   "outputs": [],
   "source": [
    "##Prefixo\n",
    "pref_dwd_beneficio_bolsa = 'beneficio_'\n",
    "pref_dwd_rubrica_bb = 'rubrica_'\n",
    "pref_dwd_moeda_bb = 'moeda_'"
   ]
  },
  {
   "cell_type": "code",
   "execution_count": 292,
   "metadata": {},
   "outputs": [],
   "source": [
    "dwd_beneficio_bolsa_bb = dwd_beneficio_bolsa.select([f.col(c) for c in dwd_beneficio_bolsa.columns if 'ID' in c] + \\\n",
    "    [f.col(c).alias(c.lower()) for c in dwd_beneficio_bolsa.columns if 'ID' not in c]) \\\n",
    "    .drop('CD_MOEDA', 'VL_TOTAL')\n",
    "dwd_rubrica_bb = dwd_rubrica.filter(f.col('in_registro_ativo')=='S').select(['ID_RUBRICA']+[f.col(c).alias(pref_dwd_rubrica_bb+c.lower()) for c in dwd_rubrica.columns])\n",
    "dwd_moeda_bb = dwd_moeda.filter(f.col('in_registro_ativo')=='S').select(['ID_MOEDA']+[f.col(c).alias(pref_dwd_moeda_bb+c.lower()) for c in dwd_moeda.columns])\n",
    "dwd_processo_bolsa_bb = dwd_processo_bolsa.filter(f.col('in_registro_ativo')=='S').select('SK_PROCESSO_BOLSA', f.col('ID_PROCESSO_BOLSA').alias('ID_PROCESSO'))"
   ]
  },
  {
   "cell_type": "code",
   "execution_count": 298,
   "metadata": {
    "scrolled": true
   },
   "outputs": [],
   "source": [
    "beneficio_bolsa = \\\n",
    "dwd_beneficio_bolsa_bb \\\n",
    ".join(dwd_rubrica_bb, 'ID_RUBRICA') \\\n",
    ".join(dwd_processo_bolsa_bb, 'ID_PROCESSO') \\\n",
    ".join(dwd_moeda_bb, 'ID_MOEDA') \\\n",
    ".withColumn('processo_sk_processo', f.col('SK_PROCESSO_BOLSA')) \\\n",
    ".withColumnRenamed('SK_PROCESSO_BOLSA', 'bolsa_sk_processo') \\\n",
    "## Remove as SKs\n",
    "beneficio_bolsa = \\\n",
    "beneficio_bolsa \\\n",
    ".select(['processo_sk_processo', 'bolsa_sk_processo']+[f.col(c) for c in beneficio_bolsa.columns if 'sk' not in c.lower()]) \\\n",
    ".drop('ID_PROCESSO', 'ID_RUBRICA', 'ID_MOEDA')\n",
    "## Adiciona o prefixo 'pagamento_' as colunas\n",
    "beneficio_bolsa = \\\n",
    "beneficio_bolsa \\\n",
    ".select([f.col(c).alias(pref_dwd_beneficio_bolsa+c) for c in beneficio_bolsa.columns])\n",
    "## Transforma as colunas 'dt' em data\n",
    "beneficio_bolsa_columns = []\n",
    "for i in [f.col(c) for c in beneficio_bolsa.columns if 'sk' not in c.lower()]:\n",
    "    if '_dt_' in str(i).lower():\n",
    "        beneficio_bolsa_columns.append(i.cast('date'))\n",
    "    else:\n",
    "        beneficio_bolsa_columns.append(i)\n",
    "beneficio_bolsa = beneficio_bolsa.select(\\\n",
    "                             [f.col(pref_dwd_beneficio_bolsa+'processo_sk_processo').alias('processo_sk_processo'), \\\n",
    "                              f.col(pref_dwd_beneficio_bolsa+'bolsa_sk_processo').alias('bolsa_sk_processo')] \\\n",
    "                             + beneficio_bolsa_columns)\n",
    "## UDF\n",
    "def nr_parcelas(x):\n",
    "    return [i for i in range(1, x+1)]\n",
    "nr_parcelas_udf = f.udf(nr_parcelas, ArrayType(StringType()))\n",
    "## Explode a lista\n",
    "beneficio_bolsa = \\\n",
    "    beneficio_bolsa \\\n",
    "    .withColumn('beneficio_qt_rubrica', nr_parcelas_udf(f.col('beneficio_qt_rubrica'))) \\\n",
    "    .withColumn('beneficio_qt_rubrica', f.explode('beneficio_qt_rubrica'))"
   ]
  },
  {
   "cell_type": "code",
   "execution_count": 304,
   "metadata": {},
   "outputs": [
    {
     "data": {
      "text/plain": [
       "['processo_sk_processo',\n",
       " 'bolsa_sk_processo',\n",
       " 'auxpe_sk_processo',\n",
       " 'pagamento_nr_solicitacao',\n",
       " 'pagamento_vl_pagamento_origem',\n",
       " 'pagamento_vl_pagamento_usd',\n",
       " 'pagamento_vl_pagamento_brl',\n",
       " 'pagamento_dh_carga',\n",
       " 'pagamento___index_level_0__',\n",
       " 'pagamento_rubrica_id_rubrica',\n",
       " 'pagamento_rubrica_nm_rubrica',\n",
       " 'pagamento_rubrica_cd_natureza_despesa',\n",
       " 'pagamento_rubrica_ds_natureza_despesa',\n",
       " 'pagamento_rubrica_in_mensalidade',\n",
       " 'pagamento_rubrica_tp_frequencia_pagamento',\n",
       " 'pagamento_rubrica_tp_natureza',\n",
       " 'pagamento_rubrica_in_somente_dependente',\n",
       " 'pagamento_rubrica_in_bolsa_exterior',\n",
       " 'pagamento_rubrica_in_bolsa_pais',\n",
       " 'pagamento_rubrica_in_auxilio_pais',\n",
       " 'pagamento_rubrica_in_auxilio_exterior',\n",
       " 'pagamento_rubrica_in_rubrica_ativa',\n",
       " 'pagamento_rubrica_in_registro_ausente',\n",
       " 'pagamento_rubrica_dt_carga',\n",
       " 'pagamento_rubrica_dt_versionamento',\n",
       " 'pagamento_rubrica_in_registro_ativo',\n",
       " 'pagamento_tp_solicitacao_id_tipo_solicitacao',\n",
       " 'pagamento_tp_solicitacao_ds_tipo_solicitacao',\n",
       " 'pagamento_tp_solicitacao_ds_subtipo_solicitacao',\n",
       " 'pagamento_tp_solicitacao_in_registro_ausente',\n",
       " 'pagamento_tp_solicitacao_dt_carga',\n",
       " 'pagamento_tp_solicitacao_dt_versionamento',\n",
       " 'pagamento_tp_solicitacao_in_registro_ativo',\n",
       " 'pagamento_moeda_id_moeda',\n",
       " 'pagamento_moeda_cd_moeda',\n",
       " 'pagamento_moeda_nm_moeda',\n",
       " 'pagamento_moeda_cd_simbolo_moeda',\n",
       " 'pagamento_moeda_in_registro_ausente',\n",
       " 'pagamento_moeda_dt_carga',\n",
       " 'pagamento_moeda_dt_versionamento',\n",
       " 'pagamento_moeda_in_registro_ativo',\n",
       " 'pagamento_dt_pagamento',\n",
       " 'pagamento_dt_referencia',\n",
       " 'pagamento_vl_pago_origem',\n",
       " 'pagamento_vl_empenhado_origem',\n",
       " 'pagamento_vl_pago_brl',\n",
       " 'pagamento_vl_empenhado_brl',\n",
       " 'pagamento_vl_pago_usd',\n",
       " 'pagamento_vl_empenhado_usd']"
      ]
     },
     "execution_count": 304,
     "metadata": {},
     "output_type": "execute_result"
    }
   ],
   "source": [
    "pagamento.columns"
   ]
  },
  {
   "cell_type": "code",
   "execution_count": 324,
   "metadata": {},
   "outputs": [
    {
     "name": "stdout",
     "output_type": "stream",
     "text": [
      "+--------------------+-----------------+----------------------------+------------------------+----------------------+-----------------------+----+\n",
      "|processo_sk_processo|bolsa_sk_processo|pagamento_rubrica_id_rubrica|pagamento_vl_pago_origem|pagamento_dt_pagamento|pagamento_dt_referencia|rank|\n",
      "+--------------------+-----------------+----------------------------+------------------------+----------------------+-----------------------+----+\n",
      "|              637584|           637584|                          38|                  1300.0|            2019-11-07|             2019-12-01|   1|\n",
      "|              637584|           637584|                          37|                   665.0|            2020-07-08|             2020-05-01|   1|\n",
      "|              637584|           637584|                          41|                  1300.0|            2019-11-07|             2019-12-01|   1|\n",
      "|              637584|           637584|                          41|                  1300.0|            2019-11-07|             2020-01-01|   2|\n",
      "|              637584|           637584|                          41|                  1300.0|            2019-11-07|             2020-02-01|   3|\n",
      "|              637584|           637584|                          41|                  1300.0|            2019-12-20|             2020-03-01|   4|\n",
      "|              637584|           637584|                          41|                 -1300.0|            2019-12-20|             2020-04-01|   5|\n",
      "|              637584|           637584|                          41|                  1300.0|            2019-12-20|             2020-04-01|   5|\n",
      "|              637584|           637584|                          52|                   540.0|            2019-11-07|             2019-12-01|   1|\n",
      "+--------------------+-----------------+----------------------------+------------------------+----------------------+-----------------------+----+\n",
      "\n"
     ]
    }
   ],
   "source": [
    "window_pagamento = Window.partitionBy('processo_sk_processo', 'pagamento_rubrica_id_rubrica').orderBy('pagamento_dt_referencia')\n",
    "\n",
    "pagamento\\\n",
    ".filter(f.col(pref_dwf_pagamento+'tp_solicitacao_id_tipo_solicitacao').isin(1, 4))\\\n",
    ".filter(f.col('bolsa_sk_processo').isin(-1, -2)==False)\\\n",
    ".filter(f.col('bolsa_sk_processo')==637584)\\\n",
    ".select('processo_sk_processo', 'bolsa_sk_processo', 'pagamento_rubrica_id_rubrica', 'pagamento_vl_pago_origem', 'pagamento_dt_pagamento', 'pagamento_dt_referencia') \\\n",
    ".sort('processo_sk_processo', 'pagamento_dt_referencia') \\\n",
    ".withColumn('rank', f.rank().over(window_pagamento)) \\\n",
    ".show()"
   ]
  },
  {
   "cell_type": "markdown",
   "metadata": {},
   "source": [
    "### Prestação de contas"
   ]
  },
  {
   "cell_type": "code",
   "execution_count": 12,
   "metadata": {},
   "outputs": [],
   "source": [
    "##Prefixo\n",
    "pref_dwf_prestacao_conta = 'prestacao_'\n",
    "pref_dwd_tipo_solicitacao_pc = 'tp_solicitacao_'\n",
    "pref_dwd_elemento_despesa_pc = 'elem_despesa_'\n",
    "pref_dwd_situacao_prestacao_pc = 'st_prestacao_'\n",
    "pref_dwd_rubrica_pc = 'rubrica_'\n",
    "pref_dwd_moeda_pc = 'moeda_'"
   ]
  },
  {
   "cell_type": "code",
   "execution_count": 13,
   "metadata": {},
   "outputs": [],
   "source": [
    "dwf_prestacao_conta_pc = dwf_prestacao_conta.select([f.col(c) for c in dwf_prestacao_conta.columns if 'SK' in c] + \\\n",
    "    [f.col(c).alias(c.lower()) for c in dwf_prestacao_conta.columns if 'SK' not in c]) \\\n",
    "    .withColumnRenamed('SK_SITUACAO_PRESTACO', 'SK_SITUACAO_PRESTACAO') \\\n",
    "    .withColumn('SK_MOEDA', f.lit(1))\n",
    "dwd_rubrica_pc = dwd_rubrica.select(['SK_RUBRICA']+[f.col(c).alias(pref_dwd_rubrica_pgt+c.lower()) for c in dwd_rubrica.columns])\n",
    "dwd_tipo_solicitacao_pc = dwd_tipo_solicitacao.select(['SK_TIPO_SOLICITACAO']+[f.col(c).alias(pref_dwd_tipo_solicitacao_pc+c.lower()) for c in dwd_tipo_solicitacao.columns])\n",
    "dwd_elemento_despesa_pc = dwd_elemento_despesa.select(['SK_ELEMENTO_DESPESA']+[f.col(c).alias(pref_dwd_elemento_despesa_pc+c.lower()) for c in dwd_elemento_despesa.columns])\n",
    "dwd_situacao_prestacao_pc = dwd_situacao_prestacao.select(['SK_SITUACAO_PRESTACAO']+[f.col(c).alias(pref_dwd_situacao_prestacao_pc+c.lower()) for c in dwd_situacao_prestacao.columns])\n",
    "dwd_moeda_pc = dwd_moeda.select(['SK_MOEDA']+[f.col(c).alias(pref_dwd_moeda_pgt+c.lower()) for c in dwd_moeda.columns])"
   ]
  },
  {
   "cell_type": "code",
   "execution_count": 14,
   "metadata": {},
   "outputs": [],
   "source": [
    "prestacao_conta = \\\n",
    "dwf_prestacao_conta_pc \\\n",
    ".join(dwd_rubrica_pc, 'SK_RUBRICA') \\\n",
    ".join(dwd_tipo_solicitacao_pc, 'SK_TIPO_SOLICITACAO') \\\n",
    ".join(dwd_elemento_despesa_pc, 'SK_ELEMENTO_DESPESA') \\\n",
    ".join(dwd_situacao_prestacao_pc, 'SK_SITUACAO_PRESTACAO') \\\n",
    ".join(dwd_moeda_pgt, 'SK_MOEDA') \\\n",
    ".withColumn('dt_pagamento', f.to_date(f.col('SK_DATA_LANCAMENTO').cast('string'), 'yyyyMMdd')) \\\n",
    ".withColumn('dt_referencia', f.to_date(f.col('SK_DATA_LANCAMENTO').cast('string'), 'yyyyMMdd')) \\\n",
    ".withColumn('processo_sk_processo', f.col('SK_PROCESSO_AUXPE')) \\\n",
    ".withColumnRenamed('SK_PROCESSO_AUXPE', 'auxpe_sk_processo')\n",
    "## Remove as SKs\n",
    "prestacao_conta = \\\n",
    "prestacao_conta \\\n",
    ".select(['processo_sk_processo', 'auxpe_sk_processo']+[f.col(c) for c in prestacao_conta.columns if 'sk' not in c.lower()])\n",
    "## Adiciona o prefixo 'pagamento_' as colunas\n",
    "prestacao_conta = \\\n",
    "prestacao_conta \\\n",
    ".select([f.col(c).alias(pref_dwf_prestacao_conta+c) for c in prestacao_conta.columns])\n",
    "## Transforma as colunas 'dt' em data\n",
    "prestacao_conta_columns = []\n",
    "for i in [f.col(c) for c in prestacao_conta.columns if 'sk' not in c.lower()]:\n",
    "    if '_dt_' in str(i).lower():\n",
    "        prestacao_conta_columns.append(i.cast('date'))\n",
    "    else:\n",
    "        prestacao_conta_columns.append(i)\n",
    "prestacao_conta = prestacao_conta.select(\\\n",
    "                             [f.col(pref_dwf_prestacao_conta+'processo_sk_processo').alias('processo_sk_processo'), \\\n",
    "                              f.col(pref_dwf_prestacao_conta+'auxpe_sk_processo').alias('auxpe_sk_processo')] \\\n",
    "                             + prestacao_conta_columns)"
   ]
  },
  {
   "cell_type": "markdown",
   "metadata": {},
   "source": [
    "#### Colunas calculadas"
   ]
  },
  {
   "cell_type": "code",
   "execution_count": 15,
   "metadata": {},
   "outputs": [],
   "source": [
    "prestacao_conta = prestacao_conta \\\n",
    "                    .withColumn('vl_prestado_conta', \\\n",
    "                                f.when((f.col('prestacao_tp_solicitacao_id_tipo_solicitacao').isin(5) | f.col('prestacao_st_prestacao_id_situacao_prestacao').isin(0)), \\\n",
    "                                       f.col('prestacao_vl_lancado')).otherwise(f.lit(0))) \\\n",
    "                    .withColumn('vl_devolvido', \\\n",
    "                                f.when((f.col('prestacao_tp_solicitacao_id_tipo_solicitacao').isin(4) | f.col('prestacao_st_prestacao_id_situacao_prestacao').isin(0)), \\\n",
    "                                       f.col('prestacao_vl_lancado')).otherwise(f.lit(0))) \n"
   ]
  },
  {
   "cell_type": "markdown",
   "metadata": {},
   "source": [
    "### Gasto no cartão pesquisador"
   ]
  },
  {
   "cell_type": "code",
   "execution_count": 16,
   "metadata": {},
   "outputs": [],
   "source": [
    "##Prefixo\n",
    "pref_dwf_extrato_cartao_pesquisador = 'cartao_'\n",
    "pref_dwd_moeda_pc = 'moeda_'"
   ]
  },
  {
   "cell_type": "code",
   "execution_count": 17,
   "metadata": {},
   "outputs": [],
   "source": [
    "dwf_extrato_cartao_pesquisador_cartao = dwf_extrato_cartao_pesquisador.select([f.col(c) for c in dwf_extrato_cartao_pesquisador.columns if 'SK' in c] \\\n",
    "    + [f.lit(1).alias('SK_MOEDA')] \\\n",
    "    + [f.col(c).alias(c.lower()) for c in dwf_extrato_cartao_pesquisador.columns if 'SK' not in c])\n",
    "dwd_moeda_cartao = dwd_moeda.select(['SK_MOEDA']+[f.col(c).alias(pref_dwd_moeda_pgt+c.lower()) for c in dwd_moeda.columns])"
   ]
  },
  {
   "cell_type": "code",
   "execution_count": 18,
   "metadata": {},
   "outputs": [],
   "source": [
    "cartao = \\\n",
    "dwf_extrato_cartao_pesquisador_cartao \\\n",
    ".join(dwd_moeda_pgt, 'SK_MOEDA') \\\n",
    ".withColumn('dt_pagamento', f.to_date(f.col('SK_DATA_TRANSACAO').cast('string'), 'yyyyMMdd')) \\\n",
    ".withColumn('dt_referencia', f.to_date(f.col('SK_DATA_TRANSACAO').cast('string'), 'yyyyMMdd')) \\\n",
    ".withColumn('processo_sk_processo', f.col('SK_PROCESSO_AUXPE')) \\\n",
    ".withColumnRenamed('SK_PROCESSO_AUXPE', 'auxpe_sk_processo')\n",
    "## Remove as SKs\n",
    "cartao = \\\n",
    "cartao \\\n",
    ".select(['processo_sk_processo', 'auxpe_sk_processo']+[f.col(c) for c in cartao.columns if 'sk' not in c.lower()])\n",
    "## Adiciona o prefixo 'cartao_' as colunas\n",
    "cartao = \\\n",
    "cartao \\\n",
    ".select([f.col(c).alias(pref_dwf_extrato_cartao_pesquisador+c) for c in cartao.columns])\n",
    "## Transforma as colunas 'dt' em data\n",
    "cartao_columns = []\n",
    "for i in [f.col(c) for c in cartao.columns if 'sk' not in c.lower()]:\n",
    "    if '_dt_' in str(i).lower():\n",
    "        cartao_columns.append(i.cast('date'))\n",
    "    else:\n",
    "        cartao_columns.append(i)\n",
    "cartao = cartao.select(\\\n",
    "                        [f.col(pref_dwf_extrato_cartao_pesquisador+'processo_sk_processo').alias('processo_sk_processo'), \\\n",
    "                         f.col(pref_dwf_extrato_cartao_pesquisador+'auxpe_sk_processo').alias('auxpe_sk_processo')] \\\n",
    "                         + cartao_columns)"
   ]
  },
  {
   "cell_type": "markdown",
   "metadata": {},
   "source": [
    "## Union tabelas fato"
   ]
  },
  {
   "cell_type": "code",
   "execution_count": 163,
   "metadata": {},
   "outputs": [],
   "source": [
    "pagamento_union = pagamento.select([f.col(c).alias(str(c).replace(pref_dwf_pagamento, \"\")) for c in pagamento.columns]) \\\n",
    "                   .withColumn('nm_tabela', f.lit('pagamento'))\n",
    "prestacao_conta_union = prestacao_conta.select([f.col(c).alias(str(c).replace(pref_dwf_prestacao_conta, \"\")) for c in prestacao_conta.columns]) \\\n",
    "                   .withColumn('nm_tabela', f.lit('prestacao'))\n",
    "cartao_union = cartao.select([f.col(c).alias(str(c).replace(pref_dwf_extrato_cartao_pesquisador, \"\")) for c in cartao.columns]) \\\n",
    "                   .withColumn('nm_tabela', f.lit('cartao'))\n",
    "beneficio_bolsa_union = beneficio_bolsa.select([f.col(c).alias(str(c).replace(pref_dwd_beneficio_bolsa, \"\")) for c in beneficio_bolsa.columns]) \\\n",
    "                           .withColumn('nm_tabela', f.lit('beneficio'))\n",
    "## Prefixo das colunas em comum\n",
    "pref_fatos = 'fato_'\n",
    "\n",
    "## Renomeia as colunas exclusivas Pagamento\n",
    "colunas_fato = []\n",
    "colunas_pagamento = []\n",
    "for i in pagamento_union.columns:\n",
    "    if i not in prestacao_conta_union.columns+cartao_union.columns:\n",
    "        colunas_pagamento.append(f.col(i).alias(pref_dwf_pagamento+i))\n",
    "    if i in prestacao_conta_union.columns+cartao_union.columns:\n",
    "        colunas_fato.append(f.col(i).alias(pref_fatos+i))\n",
    "colunas_fato_pagamento = colunas_fato+colunas_pagamento\n",
    "\n",
    "## Renomeia as colunas exclusivas Prestação\n",
    "colunas_fato = []\n",
    "colunas_prestacao = []\n",
    "for i in prestacao_conta_union.columns:\n",
    "    if i not in pagamento_union.columns+cartao_union.columns:\n",
    "        colunas_prestacao.append(f.col(i).alias(pref_dwf_prestacao_conta+i))\n",
    "    if i in pagamento_union.columns+cartao_union.columns:\n",
    "        colunas_fato.append(f.col(i).alias(pref_fatos+i))\n",
    "colunas_fato_prestacao = colunas_fato+colunas_prestacao\n",
    "\n",
    "## Renomeia as colunas exclusivas Cartão\n",
    "colunas_fato = []\n",
    "colunas_cartao = []\n",
    "for i in cartao_union.columns:\n",
    "    if i not in prestacao_conta_union.columns+pagamento_union.columns:\n",
    "        colunas_cartao.append(f.col(i).alias(pref_dwf_extrato_cartao_pesquisador+i))\n",
    "    if i in prestacao_conta_union.columns+pagamento_union.columns:\n",
    "        colunas_fato.append(f.col(i).alias(pref_fatos+i))\n",
    "colunas_fato_cartao = colunas_fato+colunas_cartao\n",
    "\n",
    "## Renomeia as colunas exclusivas Cartão\n",
    "colunas_fato = []\n",
    "colunas_beneficio = []\n",
    "for i in beneficio_bolsa_union.columns:\n",
    "    if i not in prestacao_conta_union.columns+pagamento_union.columns+cartao_union.columns:\n",
    "        colunas_beneficio.append(f.col(i).alias(pref_dwd_beneficio_bolsa+i))\n",
    "    if i in prestacao_conta_union.columns+pagamento_union.columns+cartao_union.columns:\n",
    "        colunas_fato.append(f.col(i).alias(pref_fatos+i))\n",
    "colunas_fato_beneficio = colunas_fato+colunas_beneficio\n",
    "\n",
    "## Tabelas renomeadas\n",
    "pagamento_union = pagamento_union.select(colunas_fato_pagamento) \\\n",
    "                    .withColumnRenamed('fato_processo_sk_processo', 'processo_sk_processo') \\\n",
    "                    .withColumnRenamed('fato_auxpe_sk_processo', 'auxpe_sk_processo') \\\n",
    "                    .withColumnRenamed('pagamento_bolsa_sk_processo', 'bolsa_sk_processo')\n",
    "prestacao_conta_union = prestacao_conta_union.select(colunas_fato_prestacao) \\\n",
    "                    .withColumnRenamed('fato_processo_sk_processo', 'processo_sk_processo') \\\n",
    "                    .withColumnRenamed('fato_auxpe_sk_processo', 'auxpe_sk_processo')\n",
    "cartao_union = cartao_union.select(colunas_fato_cartao) \\\n",
    "                    .withColumnRenamed('fato_processo_sk_processo', 'processo_sk_processo') \\\n",
    "                    .withColumnRenamed('fato_auxpe_sk_processo', 'auxpe_sk_processo')\n",
    "beneficio_bolsa_union = beneficio_bolsa_union.select(colunas_fato_beneficio) \\\n",
    "                        .withColumnRenamed('fato_processo_sk_processo', 'processo_sk_processo') \\\n",
    "                        .withColumnRenamed('fato_bolsa_sk_processo', 'bolsa_sk_processo')"
   ]
  },
  {
   "cell_type": "code",
   "execution_count": 164,
   "metadata": {
    "scrolled": true
   },
   "outputs": [],
   "source": [
    "pagamento_prestacao_cartao = \\\n",
    "    pagamento_union \\\n",
    "    .unionByName(prestacao_conta_union, allowMissingColumns=True) \\\n",
    "    .unionByName(cartao_union, allowMissingColumns=True)\n",
    "pagamento_beneficio = \\\n",
    "    pagamento_union \\\n",
    "    .unionByName(beneficio_bolsa_union, allowMissingColumns=True)"
   ]
  },
  {
   "cell_type": "markdown",
   "metadata": {},
   "source": [
    "#### Colunas calculadas"
   ]
  },
  {
   "cell_type": "code",
   "execution_count": 165,
   "metadata": {},
   "outputs": [],
   "source": [
    "pagamento_prestacao_cartao = pagamento_prestacao_cartao_beneficio \\\n",
    "    .withColumn(pref_fatos+'vl_pago_origem', f.col('pagamento_vl_pago_origem')) \\\n",
    "    .withColumn(pref_fatos+'vl_empenhado_origem', f.col('pagamento_vl_empenhado_origem')) \\\n",
    "    .withColumn(pref_fatos+'vl_pago_brl', f.col('pagamento_vl_pago_brl')) \\\n",
    "    .withColumn(pref_fatos+'vl_empenhado_brl', f.col('pagamento_vl_empenhado_brl')) \\\n",
    "    .withColumn(pref_fatos+'vl_pago_usd', f.col('pagamento_vl_pago_usd')) \\\n",
    "    .withColumn(pref_fatos+'vl_empenhado_usd', f.col('pagamento_vl_empenhado_usd')) \\\n",
    "    .withColumn(pref_fatos+'vl_prestado_conta', f.col('prestacao_vl_prestado_conta')) \\\n",
    "    .withColumn(pref_fatos+'vl_devolvido', f.col('prestacao_vl_devolvido')) \\\n",
    "    .withColumn(pref_fatos+'vl_gasto_cartao', f.col('cartao_vl_transacao_brl')) \\\n",
    "    .na.fill({pref_fatos+'vl_pago_origem': 0, pref_fatos+'vl_empenhado_origem': 0, pref_fatos+'vl_pago_brl': 0, pref_fatos+'vl_empenhado_brl': 0,\n",
    "             pref_fatos+'vl_pago_usd': 0, pref_fatos+'vl_empenhado_usd': 0, pref_fatos+'vl_prestado_conta': 0, pref_fatos+'vl_devolvido': 0,\n",
    "             pref_fatos+'vl_gasto_cartao': 0})"
   ]
  },
  {
   "cell_type": "code",
   "execution_count": 166,
   "metadata": {},
   "outputs": [],
   "source": [
    "pagamento_beneficio = pagamento_beneficio \\\n",
    "    .withColumn(pref_fatos+'vl_pago_origem', f.col('pagamento_vl_pago_origem')) \\\n",
    "    .withColumn(pref_fatos+'vl_pago_brl', f.col('pagamento_vl_pago_brl')) \\\n",
    "    .withColumn(pref_fatos+'vl_pago_usd', f.col('pagamento_vl_pago_usd')) \\\n",
    "    .withColumn(pref_fatos+'vl_beneficio_bolsa', f.col('beneficio_vl_rubrica')) \\\n",
    "    .na.fill({pref_fatos+'vl_pago_origem': 0, pref_fatos+'vl_pago_brl': 0,\n",
    "             pref_fatos+'vl_pago_usd': 0, pref_fatos+'vl_beneficio_bolsa': 0})"
   ]
  },
  {
   "cell_type": "code",
   "execution_count": 22,
   "metadata": {
    "scrolled": true
   },
   "outputs": [
    {
     "name": "stdout",
     "output_type": "stream",
     "text": [
      "CPU times: user 13.8 ms, sys: 5.59 ms, total: 19.4 ms\n",
      "Wall time: 23.8 s\n"
     ]
    },
    {
     "data": {
      "text/plain": [
       "1646279"
      ]
     },
     "execution_count": 22,
     "metadata": {},
     "output_type": "execute_result"
    }
   ],
   "source": [
    "%%time\n",
    "_cache(pagamento_prestacao_cartao)"
   ]
  },
  {
   "cell_type": "markdown",
   "metadata": {},
   "source": [
    "## Tabelas dimensão"
   ]
  },
  {
   "cell_type": "markdown",
   "metadata": {},
   "source": [
    "### Projeto"
   ]
  },
  {
   "cell_type": "code",
   "execution_count": 23,
   "metadata": {},
   "outputs": [],
   "source": [
    "##Prefixo\n",
    "pref_dwd_processo_projeto_proj = 'proj_'\n",
    "pref_dwd_unidade_organizacional_proj = 'uo_'\n",
    "pref_dwd_programa_proj = 'programa_'\n",
    "pref_dwd_edital = 'edital_'\n",
    "pref_dwd_tipo_beneficio = 'tp_beneficio_'\n",
    "pref_ies_principal = 'ies_princip_'\n",
    "pref_geografia_resp_principal = 'geo_resp_princp_'\n",
    "pref_responsavel_principal = 'resp_princp_'\n",
    "pref_dwd_situacao_processo_proj = 'st_proc_'"
   ]
  },
  {
   "cell_type": "code",
   "execution_count": 24,
   "metadata": {},
   "outputs": [],
   "source": [
    "dwd_processo_projeto_proj = dwd_processo_projeto.select([f.col(c) for c in dwd_processo_projeto.columns if 'SK' in c] + \\\n",
    "    [f.col(c).alias(c.lower()) for c in dwd_processo_projeto.columns if 'SK' not in c]) \\\n",
    "    .filter(f.col('in_registro_ativo')=='S')\n",
    "dwd_unidade_organizacional_proj = dwd_unidade_organizacional.select(['SK_UNIDADE_ORGANIZACIONAL']+[f.col(c).alias(pref_dwd_unidade_organizacional_proj+c.lower()) for c in dwd_unidade_organizacional.columns])\n",
    "dwd_programa_proj = dwd_programa.select(['SK_PROGRAMA']+[f.col(c).alias(pref_dwd_programa_proj+c.lower()) for c in dwd_programa.columns])\n",
    "dwd_edital_proj = dwd_edital.select(['SK_EDITAL']+[f.col(c).alias(pref_dwd_edital+c.lower()) for c in dwd_edital.columns])\n",
    "dwd_tipo_beneficio_proj = dwd_tipo_beneficio.select(['SK_TIPO_BENEFICIO']+[f.col(c).alias(pref_dwd_tipo_beneficio+c.lower()) for c in dwd_tipo_beneficio.columns])\n",
    "ies_principal = dwd_instituicao_ensino.withColumnRenamed('SK_INSTITUICAO_ENSINO', 'SK_IES_PRINCIPAL')\n",
    "ies_principal = ies_principal.select(['SK_IES_PRINCIPAL']+[f.col(c).alias(pref_ies_principal+c.lower()) for c in ies_principal.columns])\n",
    "geografia_resp_principal = dwd_geografia.withColumnRenamed('SK_GEOGRAFIA', 'SK_GEOGRAFIA_RESP_PRINCIPAL')\n",
    "geografia_resp_principal = geografia_resp_principal.select(['SK_GEOGRAFIA_RESP_PRINCIPAL']+[f.col(c).alias(pref_geografia_resp_principal+c.lower()) for c in geografia_resp_principal.columns])\n",
    "responsavel_principal = dwd_pessoa.withColumnRenamed('SK_PESSOA', 'SK_RESPONSAVEL_PRINCIPAL')\n",
    "responsavel_principal = responsavel_principal.select(['SK_RESPONSAVEL_PRINCIPAL']+[f.col(c).alias(pref_responsavel_principal+c.lower()) for c in responsavel_principal.columns])\n",
    "dwd_situacao_processo_proj = dwd_situacao_processo.select(['SK_SITUACAO_PROCESSO']+[f.col(c).alias(pref_dwd_situacao_processo_proj+c.lower()) for c in dwd_situacao_processo.columns])"
   ]
  },
  {
   "cell_type": "code",
   "execution_count": 25,
   "metadata": {
    "scrolled": false
   },
   "outputs": [],
   "source": [
    "projeto = \\\n",
    "dwd_processo_projeto_proj \\\n",
    ".join(dwd_unidade_organizacional_proj, 'SK_UNIDADE_ORGANIZACIONAL') \\\n",
    ".join(dwd_programa_proj, 'SK_PROGRAMA') \\\n",
    ".join(dwd_edital_proj, 'SK_EDITAL') \\\n",
    ".join(dwd_tipo_beneficio_proj, 'SK_TIPO_BENEFICIO') \\\n",
    ".join(ies_principal, 'SK_IES_PRINCIPAL') \\\n",
    ".join(geografia_resp_principal, 'SK_GEOGRAFIA_RESP_PRINCIPAL') \\\n",
    ".join(responsavel_principal, 'SK_RESPONSAVEL_PRINCIPAL') \\\n",
    ".join(dwd_situacao_processo_proj, 'SK_SITUACAO_PROCESSO')\n",
    "## Remove as SKs\n",
    "projeto = \\\n",
    "projeto \\\n",
    ".select(['sk_processo_projeto']+[f.col(c) for c in projeto.columns if 'sk' not in c.lower()])\n",
    "## Adiciona o prefixo 'proj_' as colunas\n",
    "projeto = \\\n",
    "projeto \\\n",
    ".select([f.col(c).alias(pref_dwd_processo_projeto_proj+c) for c in projeto.columns])\n",
    "## Transforma as colunas 'dt' em data\n",
    "proj_columns = []\n",
    "for i in [f.col(c) for c in projeto.columns]:\n",
    "    if '_dt_' in str(i).lower():\n",
    "        proj_columns.append(i.cast('date'))\n",
    "    else:\n",
    "        proj_columns.append(i)\n",
    "projeto = \\\n",
    "projeto \\\n",
    ".select(proj_columns)"
   ]
  },
  {
   "cell_type": "markdown",
   "metadata": {},
   "source": [
    "### Bolsas"
   ]
  },
  {
   "cell_type": "code",
   "execution_count": 26,
   "metadata": {},
   "outputs": [],
   "source": [
    "##Prefixo\n",
    "pref_dwd_processo_bolsa_bolsa = 'bolsa_'\n",
    "pref_dwd_unidade_organizacional_bolsa = 'uo_'\n",
    "pref_dwd_programa_bolsa = 'programa_'\n",
    "pref_dwd_edital_bolsa = 'edital_'\n",
    "pref_dwd_tipo_beneficio_bolsa = 'tp_beneficio_'\n",
    "pref_bolsista_bolsa = 'beneficiario_'\n",
    "pref_geografia_exterior_bolsa = 'geo_exterior_'\n",
    "pref_geografia_brasil_bolsa = 'geo_brasil_'\n",
    "pref_ies_origem_bolsa = 'ies_ori_'\n",
    "pref_geografia_ies_origem_bolsa = 'geo_ies_ori_'\n",
    "pref_ies_estudo_bolsa = 'ies_estu_'\n",
    "pref_geografia_ies_estudo_bolsa = 'geo_ies_estu_'\n",
    "pref_dwd_modalidade_bolsa = 'modalidade_'\n",
    "pref_dwd_situacao_processo_bolsa = 'st_proc_'"
   ]
  },
  {
   "cell_type": "code",
   "execution_count": 27,
   "metadata": {},
   "outputs": [],
   "source": [
    "dwd_processo_bolsa_bolsa = dwd_processo_bolsa.select([f.col(c) for c in dwd_processo_bolsa.columns if 'SK' in c] + \\\n",
    "    [f.col(c).alias(c.lower()) for c in dwd_processo_bolsa.columns if 'SK' not in c]) \\\n",
    "    .withColumnRenamed('SK_PROCESSO_PROJETO', 'proj_sk_processo_projeto') \\\n",
    "    .filter(f.col('in_registro_ativo')=='S')\n",
    "dwd_unidade_organizacional_bolsa = dwd_unidade_organizacional.select(['SK_UNIDADE_ORGANIZACIONAL']+[f.col(c).alias(pref_dwd_unidade_organizacional_bolsa+c.lower()) for c in dwd_unidade_organizacional.columns])\n",
    "dwd_programa_bolsa = dwd_programa.select(['SK_PROGRAMA']+[f.col(c).alias(pref_dwd_programa_bolsa+c.lower()) for c in dwd_programa.columns])\n",
    "dwd_edital_bolsa = dwd_edital.select(['SK_EDITAL']+[f.col(c).alias(pref_dwd_edital_bolsa+c.lower()) for c in dwd_edital.columns])\n",
    "dwd_tipo_beneficio_bolsa = dwd_tipo_beneficio.select(['SK_TIPO_BENEFICIO']+[f.col(c).alias(pref_dwd_tipo_beneficio_bolsa+c.lower()) for c in dwd_tipo_beneficio.columns])\n",
    "bolsista = dwd_pessoa.withColumnRenamed('SK_PESSOA', 'SK_BOLSISTA')\n",
    "bolsista = bolsista.select(['SK_BOLSISTA']+[f.col(c).alias(pref_bolsista_bolsa+c.lower()) for c in bolsista.columns])\n",
    "geografia_exterior = dwd_geografia.withColumnRenamed('SK_GEOGRAFIA', 'SK_GEO_EXTERIOR')\n",
    "geografia_exterior = geografia_exterior.select(['SK_GEO_EXTERIOR']+[f.col(c).alias(pref_geografia_exterior_bolsa+c.lower()) for c in geografia_exterior.columns])\n",
    "geografia_brasil = dwd_geografia.withColumnRenamed('SK_GEOGRAFIA', 'SK_GEO_BRASIL')\n",
    "geografia_brasil = geografia_brasil.select(['SK_GEO_BRASIL']+[f.col(c).alias(pref_geografia_brasil_bolsa+c.lower()) for c in geografia_brasil.columns])\n",
    "ies_origem = dwd_instituicao_ensino.withColumnRenamed('SK_INSTITUICAO_ENSINO', 'SK_IES_ORIGEM')\n",
    "ies_origem = ies_origem.select(['SK_IES_ORIGEM']+[f.col(c).alias(pref_ies_origem_bolsa+c.lower()) for c in ies_origem.columns])\n",
    "geografia_ies_origem = dwd_geografia.withColumnRenamed('SK_GEOGRAFIA', 'SK_GEOGRAFIA_IES_ORIGEM')\n",
    "geografia_ies_origem = geografia_ies_origem.select(['SK_GEOGRAFIA_IES_ORIGEM']+[f.col(c).alias(pref_geografia_ies_origem_bolsa+c.lower()) for c in geografia_ies_origem.columns])\n",
    "ies_estudo = dwd_instituicao_ensino.withColumnRenamed('SK_INSTITUICAO_ENSINO', 'SK_IES_ESTUDO')\n",
    "ies_estudo = ies_estudo.select(['SK_IES_ESTUDO']+[f.col(c).alias(pref_ies_estudo_bolsa+c.lower()) for c in ies_estudo.columns])\n",
    "geografia_ies_estudo = dwd_geografia.withColumnRenamed('SK_GEOGRAFIA', 'SK_GEOGRAFIA_IES_ESTUDO')\n",
    "geografia_ies_estudo = geografia_ies_estudo.select(['SK_GEOGRAFIA_IES_ESTUDO']+[f.col(c).alias(pref_geografia_ies_estudo_bolsa+c.lower()) for c in geografia_ies_estudo.columns])\n",
    "dwd_modalidade_bolsa_bolsa = dwd_modalidade_bolsa.select(['SK_MODALIDADE_BOLSA']+[f.col(c).alias(pref_dwd_modalidade_bolsa+c.lower()) for c in dwd_modalidade_bolsa.columns])\n",
    "dwd_situacao_processo_bolsa = dwd_situacao_processo.select(['SK_SITUACAO_PROCESSO']+[f.col(c).alias(pref_dwd_situacao_processo_bolsa+c.lower()) for c in dwd_situacao_processo.columns])"
   ]
  },
  {
   "cell_type": "code",
   "execution_count": 28,
   "metadata": {},
   "outputs": [],
   "source": [
    "bolsa = \\\n",
    "dwd_processo_bolsa_bolsa \\\n",
    ".join(projeto, 'proj_sk_processo_projeto') \\\n",
    ".join(dwd_unidade_organizacional_bolsa, 'SK_UNIDADE_ORGANIZACIONAL') \\\n",
    ".join(dwd_programa_bolsa, 'SK_PROGRAMA') \\\n",
    ".join(dwd_edital_bolsa, 'SK_EDITAL') \\\n",
    ".join(dwd_tipo_beneficio_bolsa, 'SK_TIPO_BENEFICIO') \\\n",
    ".join(bolsista, 'SK_BOLSISTA') \\\n",
    ".join(geografia_exterior, 'SK_GEO_EXTERIOR') \\\n",
    ".join(geografia_brasil, 'SK_GEO_BRASIL') \\\n",
    ".join(ies_origem, 'SK_IES_ORIGEM') \\\n",
    ".join(geografia_ies_origem, 'SK_GEOGRAFIA_IES_ORIGEM') \\\n",
    ".join(ies_estudo, 'SK_IES_ESTUDO') \\\n",
    ".join(dwd_modalidade_bolsa_bolsa, 'SK_MODALIDADE_BOLSA') \\\n",
    ".join(dwd_situacao_processo_bolsa, 'SK_SITUACAO_PROCESSO')\n",
    "#.join(geografia_ies_estudo, 'SK_GEOGRAFIA_IES_ESTUDO') \\\n",
    "## Remove as SKs\n",
    "bolsa = \\\n",
    "bolsa \\\n",
    ".select([f.col('sk_processo_bolsa').alias('sk_processo')]+[f.col(c) for c in bolsa.columns if 'sk' not in c.lower()])\n",
    "## Adiciona o prefixo 'bolsa_' as colunas\n",
    "bolsa = \\\n",
    "bolsa \\\n",
    ".select([f.col(c).alias(pref_dwd_processo_bolsa_bolsa+c) for c in bolsa.columns if 'proj_' not in c]+[f.col(c) for c in bolsa.columns if 'proj_' in c])\n",
    "## Transforma as colunas 'dt' em data\n",
    "bolsa_columns = []\n",
    "for i in [f.col(c) for c in bolsa.columns]:\n",
    "    if '_dt_' in str(i).lower():\n",
    "        bolsa_columns.append(i.cast('date'))\n",
    "    else:\n",
    "        bolsa_columns.append(i)\n",
    "bolsa = \\\n",
    "bolsa \\\n",
    ".select(bolsa_columns)"
   ]
  },
  {
   "cell_type": "markdown",
   "metadata": {},
   "source": [
    "### AUXPE"
   ]
  },
  {
   "cell_type": "code",
   "execution_count": 29,
   "metadata": {},
   "outputs": [],
   "source": [
    "##Prefixo\n",
    "pref_dwd_processo_auxpe_auxpe = 'auxpe_'\n",
    "pref_dwd_unidade_organizacional_auxpe = 'uo_'\n",
    "pref_dwd_programa_auxpe = 'programa_'\n",
    "pref_dwd_edital_auxpe = 'edital_'\n",
    "pref_dwd_tipo_beneficio_auxpe = 'tp_beneficio_'\n",
    "pref_beneficiario_auxpe = 'beneficiario_'\n",
    "pref_geografia_exterior_auxpe = 'geo_exterior_'\n",
    "pref_geografia_brasil_auxpe = 'geo_brasil_'\n",
    "pref_ies_origem_auxpe = 'ies_ori_'\n",
    "pref_geografia_ies_origem_auxpe = 'geo_ies_ori_'\n",
    "pref_ies_estudo_auxpe = 'ies_estu_'\n",
    "pref_geografia_ies_estudo_auxpe = 'geo_ies_estu_'\n",
    "pref_dwd_situacao_processo_auxpe = 'st_proc_'"
   ]
  },
  {
   "cell_type": "code",
   "execution_count": 30,
   "metadata": {},
   "outputs": [],
   "source": [
    "dwd_processo_auxpe_auxpe = dwd_processo_auxpe.select([f.col(c) for c in dwd_processo_auxpe.columns if 'SK' in c] + \\\n",
    "    [f.col(c).alias(c.lower()) for c in dwd_processo_auxpe.columns if 'SK' not in c]) \\\n",
    "    .withColumnRenamed('SK_PROCESSO_PROJETO', 'proj_sk_processo_projeto') \\\n",
    "    .filter(f.col('in_registro_ativo')=='S')\n",
    "dwd_unidade_organizacional_auxpe = dwd_unidade_organizacional.select(['SK_UNIDADE_ORGANIZACIONAL']+[f.col(c).alias(pref_dwd_unidade_organizacional_auxpe+c.lower()) for c in dwd_unidade_organizacional.columns])\n",
    "dwd_programa_auxpe = dwd_programa.select(['SK_PROGRAMA']+[f.col(c).alias(pref_dwd_programa_auxpe+c.lower()) for c in dwd_programa.columns])\n",
    "dwd_edital_auxpe = dwd_edital.select(['SK_EDITAL']+[f.col(c).alias(pref_dwd_edital_auxpe+c.lower()) for c in dwd_edital.columns])\n",
    "dwd_tipo_beneficio_auxpe = dwd_tipo_beneficio.select(['SK_TIPO_BENEFICIO']+[f.col(c).alias(pref_dwd_tipo_beneficio_auxpe+c.lower()) for c in dwd_tipo_beneficio.columns])\n",
    "beneficiario = dwd_pessoa.withColumnRenamed('SK_PESSOA', 'SK_BENEFICIARIO')\n",
    "beneficiario = beneficiario.select(['SK_BENEFICIARIO']+[f.col(c).alias(pref_beneficiario_auxpe+c.lower()) for c in beneficiario.columns])\n",
    "geografia_exterior = dwd_geografia.withColumnRenamed('SK_GEOGRAFIA', 'SK_GEO_EXTERIOR')\n",
    "geografia_exterior = geografia_exterior.select(['SK_GEO_EXTERIOR']+[f.col(c).alias(pref_geografia_exterior_auxpe+c.lower()) for c in geografia_exterior.columns])\n",
    "geografia_brasil = dwd_geografia.withColumnRenamed('SK_GEOGRAFIA', 'SK_GEO_BRASIL')\n",
    "geografia_brasil = geografia_brasil.select(['SK_GEO_BRASIL']+[f.col(c).alias(pref_geografia_brasil_auxpe+c.lower()) for c in geografia_brasil.columns])\n",
    "ies_origem = dwd_instituicao_ensino.withColumnRenamed('SK_INSTITUICAO_ENSINO', 'SK_IES_ORIGEM')\n",
    "ies_origem = ies_origem.select(['SK_IES_ORIGEM']+[f.col(c).alias(pref_ies_origem_auxpe+c.lower()) for c in ies_origem.columns])\n",
    "geografia_ies_origem = dwd_geografia.withColumnRenamed('SK_GEOGRAFIA', 'SK_GEOGRAFIA_IES_ORIGEM')\n",
    "geografia_ies_origem = geografia_ies_origem.select(['SK_GEOGRAFIA_IES_ORIGEM']+[f.col(c).alias(pref_geografia_ies_origem_auxpe+c.lower()) for c in geografia_ies_origem.columns])\n",
    "ies_estudo = dwd_instituicao_ensino.withColumnRenamed('SK_INSTITUICAO_ENSINO', 'SK_IES_ESTUDO')\n",
    "ies_estudo = ies_estudo.select(['SK_IES_ESTUDO']+[f.col(c).alias(pref_ies_estudo_auxpe+c.lower()) for c in ies_estudo.columns])\n",
    "geografia_ies_estudo = dwd_geografia.withColumnRenamed('SK_GEOGRAFIA', 'SK_GEOGRAFIA_IES_ESTUDO')\n",
    "geografia_ies_estudo = geografia_ies_estudo.select(['SK_GEOGRAFIA_IES_ESTUDO']+[f.col(c).alias(pref_geografia_ies_estudo_auxpe+c.lower()) for c in geografia_ies_estudo.columns])\n",
    "dwd_situacao_processo_auxpe = dwd_situacao_processo.select(['SK_SITUACAO_PROCESSO']+[f.col(c).alias(pref_dwd_situacao_processo_auxpe+c.lower()) for c in dwd_situacao_processo.columns])"
   ]
  },
  {
   "cell_type": "code",
   "execution_count": 31,
   "metadata": {},
   "outputs": [],
   "source": [
    "auxpe = \\\n",
    "dwd_processo_auxpe_auxpe \\\n",
    ".join(projeto, 'proj_sk_processo_projeto') \\\n",
    ".join(dwd_unidade_organizacional_auxpe, 'SK_UNIDADE_ORGANIZACIONAL') \\\n",
    ".join(dwd_programa_auxpe, 'SK_PROGRAMA') \\\n",
    ".join(dwd_edital_auxpe, 'SK_EDITAL') \\\n",
    ".join(dwd_tipo_beneficio_auxpe, 'SK_TIPO_BENEFICIO') \\\n",
    ".join(beneficiario, 'SK_BENEFICIARIO') \\\n",
    ".join(geografia_exterior, 'SK_GEO_EXTERIOR') \\\n",
    ".join(geografia_brasil, 'SK_GEO_BRASIL') \\\n",
    ".join(ies_origem, 'SK_IES_ORIGEM') \\\n",
    ".join(geografia_ies_origem, 'SK_GEOGRAFIA_IES_ORIGEM') \\\n",
    ".join(ies_estudo, 'SK_IES_ESTUDO') \\\n",
    ".join(dwd_situacao_processo_auxpe, 'SK_SITUACAO_PROCESSO')\n",
    "## Remove as SKs\n",
    "auxpe = \\\n",
    "auxpe \\\n",
    ".select([f.col('sk_processo_auxpe').alias('sk_processo')]+[f.col(c) for c in auxpe.columns if 'sk' not in c.lower()])\n",
    "## Adiciona o prefixo 'auxpe_' as colunas\n",
    "auxpe = \\\n",
    "auxpe \\\n",
    ".select([f.col(c).alias(pref_dwd_processo_auxpe_auxpe+c) for c in auxpe.columns if 'proj_' not in c]+[f.col(c) for c in auxpe.columns if 'proj_' in c])\n",
    "## Transforma as colunas 'dt' em data\n",
    "auxpe_columns = []\n",
    "for i in [f.col(c) for c in auxpe.columns]:\n",
    "    if '_dt_' in str(i).lower():\n",
    "        auxpe_columns.append(i.cast('date'))\n",
    "    else:\n",
    "        auxpe_columns.append(i)\n",
    "auxpe = \\\n",
    "auxpe \\\n",
    ".select(auxpe_columns)"
   ]
  },
  {
   "cell_type": "markdown",
   "metadata": {},
   "source": [
    "## Union Bolsa e AUXPE"
   ]
  },
  {
   "cell_type": "code",
   "execution_count": 32,
   "metadata": {},
   "outputs": [],
   "source": [
    "auxpe_union = auxpe.select([f.col(c).alias(str(c).replace(\"auxpe_\", \"\")) for c in auxpe.columns]) \\\n",
    "                   .withColumnRenamed('id_processo_auxpe', 'id_processo')\n",
    "bolsa_union = bolsa.select([f.col(c).alias(str(c).replace(\"bolsa_\", \"\")) for c in bolsa.columns]) \\\n",
    "                   .withColumnRenamed('id_processo_bolsa', 'id_processo') \\\n",
    "                   .withColumn('dt_termino', f.col('dt_termino_acompanhamento'))\n",
    "## Renomeia as colunas exclusivas AUXPE\n",
    "colunas_processo = []\n",
    "colunas_auxpe = []\n",
    "for i in auxpe_union.columns:\n",
    "    if i not in bolsa_union.columns:\n",
    "        colunas_auxpe.append(f.col(i).alias('auxpe_'+i))\n",
    "    if i in bolsa_union.columns:\n",
    "        colunas_processo.append(f.col(i).alias('processo_'+i))\n",
    "colunas_processo_auxpe = colunas_processo+colunas_auxpe\n",
    "## Renomeia as colunas exclusivas Bolsa\n",
    "colunas_processo = []\n",
    "colunas_bolsa = []\n",
    "for i in bolsa_union.columns:\n",
    "    if i not in auxpe_union.columns:\n",
    "        colunas_bolsa.append(f.col(i).alias('bolsa_'+i))\n",
    "    if i in auxpe_union.columns:\n",
    "        colunas_processo.append(f.col(i).alias('processo_'+i))\n",
    "colunas_processo_bolsa = colunas_processo+colunas_bolsa\n",
    "auxpe_union = auxpe_union.select(colunas_processo_auxpe)\n",
    "bolsa_union = bolsa_union.select(colunas_processo_bolsa)"
   ]
  },
  {
   "cell_type": "code",
   "execution_count": 33,
   "metadata": {},
   "outputs": [],
   "source": [
    "bolsa_auxpe = bolsa_union.unionByName(auxpe_union, allowMissingColumns=True)\n",
    "bolsa_auxpe = bolsa_auxpe.select([f.col(c) for c in bolsa_auxpe.columns if 'proj_' not in c]+[f.col(c).alias(c.replace('processo_', '')) for c in bolsa_auxpe.columns if 'proj_' in c])"
   ]
  },
  {
   "cell_type": "markdown",
   "metadata": {},
   "source": [
    "### Junção pagamento e processo"
   ]
  },
  {
   "cell_type": "markdown",
   "metadata": {},
   "source": [
    "#### Pagamento AUXPE"
   ]
  },
  {
   "cell_type": "code",
   "execution_count": 34,
   "metadata": {},
   "outputs": [],
   "source": [
    "pagamento_auxpe = pagamento_prestacao_cartao.join(f.broadcast(auxpe), 'auxpe_sk_processo', 'right')"
   ]
  },
  {
   "cell_type": "markdown",
   "metadata": {},
   "source": [
    "#### Pagamento Bolsa"
   ]
  },
  {
   "cell_type": "code",
   "execution_count": 149,
   "metadata": {},
   "outputs": [],
   "source": [
    "pagamento_bolsa = pagamento_beneficio.join(f.broadcast(bolsa), 'bolsa_sk_processo', 'right')"
   ]
  },
  {
   "cell_type": "markdown",
   "metadata": {},
   "source": [
    "#### Pagamento Bolsa AUXPE"
   ]
  },
  {
   "cell_type": "code",
   "execution_count": 36,
   "metadata": {},
   "outputs": [],
   "source": [
    "pagamento_bolsa_auxpe = pagamento_prestacao_cartao.join(f.broadcast(bolsa_auxpe), 'processo_sk_processo', 'right')"
   ]
  },
  {
   "cell_type": "markdown",
   "metadata": {},
   "source": [
    "### Salva df.csv.zip"
   ]
  },
  {
   "cell_type": "code",
   "execution_count": 45,
   "metadata": {},
   "outputs": [],
   "source": [
    "##Salva CSV\n",
    "def salva_csv(df, nm):\n",
    "    compression_opts = dict(method='zip', archive_name=f'{nm}.csv')\n",
    "    df.toPandas().to_csv(path_or_buf=f'/home/bosco/{nm}.zip', sep=';', na_rep='', float_format=None, columns=None, header=True, index=False, index_label=None, mode='w', encoding=None, compression=compression_opts, quoting=None, quotechar='\"', line_terminator=None, chunksize=200000, date_format=None, doublequote=True, escapechar=None, decimal=',', errors='strict', storage_options=None)"
   ]
  },
  {
   "cell_type": "markdown",
   "metadata": {},
   "source": [
    "##Salva CSV\n",
    "def salva_csv(df, nm):\n",
    "    df.repartition(6).write.csv(f'/home/bosco/{nm}', sep=';', header=True, mode='overwrite')"
   ]
  },
  {
   "cell_type": "code",
   "execution_count": 37,
   "metadata": {},
   "outputs": [],
   "source": [
    "##Salva parquet\n",
    "def salva_csv(df, nm):\n",
    "    df.write.parquet(f'/home/bosco/dw_desnormalizado/{nm}', mode='overwrite')"
   ]
  },
  {
   "cell_type": "code",
   "execution_count": 38,
   "metadata": {},
   "outputs": [
    {
     "name": "stdout",
     "output_type": "stream",
     "text": [
      "CPU times: user 2.9 ms, sys: 1.19 ms, total: 4.09 ms\n",
      "Wall time: 3.96 s\n"
     ]
    }
   ],
   "source": [
    "%%time\n",
    "salva_csv(projeto, 'projeto')"
   ]
  },
  {
   "cell_type": "code",
   "execution_count": 46,
   "metadata": {},
   "outputs": [
    {
     "name": "stdout",
     "output_type": "stream",
     "text": [
      "CPU times: user 43.6 s, sys: 270 ms, total: 43.9 s\n",
      "Wall time: 1min 14s\n"
     ]
    }
   ],
   "source": [
    "%%time\n",
    "salva_csv(bolsa, 'bolsa')"
   ]
  },
  {
   "cell_type": "code",
   "execution_count": 47,
   "metadata": {},
   "outputs": [
    {
     "name": "stdout",
     "output_type": "stream",
     "text": [
      "CPU times: user 1.58 s, sys: 7.93 ms, total: 1.59 s\n",
      "Wall time: 7.88 s\n"
     ]
    }
   ],
   "source": [
    "%%time\n",
    "salva_csv(auxpe, 'auxpe')"
   ]
  },
  {
   "cell_type": "code",
   "execution_count": 49,
   "metadata": {
    "scrolled": true
   },
   "outputs": [
    {
     "name": "stdout",
     "output_type": "stream",
     "text": [
      "CPU times: user 44.9 s, sys: 1.3 s, total: 46.2 s\n",
      "Wall time: 1min 17s\n"
     ]
    }
   ],
   "source": [
    "%%time\n",
    "salva_csv(bolsa_auxpe, 'bolsa_auxpe')"
   ]
  },
  {
   "cell_type": "code",
   "execution_count": 42,
   "metadata": {
    "scrolled": true
   },
   "outputs": [
    {
     "name": "stdout",
     "output_type": "stream",
     "text": [
      "CPU times: user 35.6 ms, sys: 0 ns, total: 35.6 ms\n",
      "Wall time: 2min 9s\n"
     ]
    }
   ],
   "source": [
    "%%time\n",
    "salva_csv(pagamento_auxpe, 'pagamento_auxpe')"
   ]
  },
  {
   "cell_type": "code",
   "execution_count": 43,
   "metadata": {
    "scrolled": true
   },
   "outputs": [
    {
     "name": "stdout",
     "output_type": "stream",
     "text": [
      "CPU times: user 17.3 ms, sys: 6.31 ms, total: 23.6 ms\n",
      "Wall time: 1min 10s\n"
     ]
    }
   ],
   "source": [
    "%%time\n",
    "salva_csv(pagamento_bolsa, 'pagamento_bolsa')"
   ]
  },
  {
   "cell_type": "code",
   "execution_count": 44,
   "metadata": {
    "scrolled": true
   },
   "outputs": [
    {
     "name": "stdout",
     "output_type": "stream",
     "text": [
      "CPU times: user 15.1 ms, sys: 6.23 ms, total: 21.3 ms\n",
      "Wall time: 1min 13s\n"
     ]
    }
   ],
   "source": [
    "%%time\n",
    "salva_csv(pagamento_bolsa_auxpe, 'pagamento_bolsa_auxpe')"
   ]
  },
  {
   "cell_type": "code",
   "execution_count": null,
   "metadata": {},
   "outputs": [],
   "source": []
  }
 ],
 "metadata": {
  "kernelspec": {
   "display_name": "Python 3",
   "language": "python",
   "name": "python3"
  },
  "language_info": {
   "codemirror_mode": {
    "name": "ipython",
    "version": 3
   },
   "file_extension": ".py",
   "mimetype": "text/x-python",
   "name": "python",
   "nbconvert_exporter": "python",
   "pygments_lexer": "ipython3",
   "version": "3.8.5"
  }
 },
 "nbformat": 4,
 "nbformat_minor": 4
}
